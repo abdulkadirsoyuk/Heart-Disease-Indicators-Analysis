{
  "nbformat": 4,
  "nbformat_minor": 0,
  "metadata": {
    "colab": {
      "provenance": []
    },
    "kernelspec": {
      "name": "python3",
      "display_name": "Python 3"
    },
    "language_info": {
      "name": "python"
    }
  },
  "cells": [
    {
      "cell_type": "markdown",
      "source": [
        "#**Proje Bilgilendirme**\n",
        "Bu proje, kalp hastalığı tahmini üzerine odaklanmaktadır ve çeşitli makine öğrenme teknikleri kullanarak hastalık riskini öngörmeye çalışmaktadır. Proje kapsamında, Kaggle'dan alınan [\"Indicators of Heart Disease\"](https://www.kaggle.com/datasets/kamilpytlak/personal-key-indicators-of-heart-disease) veri seti kullanılmaktadır. Bu veri seti, hastaların sağlık bilgilerini içeren özellikler sunarak, kalp hastalığına dair önemli bilgiler sağlamaktadır.\n",
        "\n",
        "Bu projede, makine öğrenme algoritmalarını kullanarak kalp hastalığı riskini tahmin eden bir model geliştirilmiştir ve çeşitli analizlerle sonuçlar değerlendirilmiştir.\n",
        "\n",
        "\n",
        "---\n",
        "\n"
      ],
      "metadata": {
        "id": "1iu8Wr12cQlg"
      }
    },
    {
      "cell_type": "markdown",
      "source": [
        "#Gerekli kütüphanelerin yüklenmesi\n",
        "Bu kod hücresinde, veri işleme ve görselleştirme için gerekli kütüphaneler yüklenir ve uyarılar gizlenir."
      ],
      "metadata": {
        "id": "YLuEJ9MhGJLW"
      }
    },
    {
      "cell_type": "code",
      "execution_count": null,
      "metadata": {
        "id": "f8wz9y-PFWqV"
      },
      "outputs": [],
      "source": [
        "import pandas as pd\n",
        "import numpy as np\n",
        "import matplotlib.pyplot as plt\n",
        "import seaborn as sns\n",
        "import warnings\n",
        "warnings.filterwarnings(\"ignore\")"
      ]
    },
    {
      "cell_type": "markdown",
      "source": [
        "#Veriyi yükleme ve ilk inceleme\n",
        "Bu kod hücresinde, bir CSV dosyasından veri okunur ve ilk 5 satır df DataFrame'inde görüntülenir."
      ],
      "metadata": {
        "id": "usGX-XAQGZ1Y"
      }
    },
    {
      "cell_type": "code",
      "source": [
        "df = pd.read_csv(\"/content/drive/MyDrive/aygazMakineOgrenmesi/indicatorsOfHeartDisease.csv\")  # veriyi df DataFrame'ine kaydeder\n",
        "df.head() # ilk 5 veriyi gösterir\n",
        "df= df.sample(frac=0.1, random_state=42)\n"
      ],
      "metadata": {
        "id": "_jcaMjMTGWzN"
      },
      "execution_count": null,
      "outputs": []
    },
    {
      "cell_type": "markdown",
      "source": [
        "#Veri Tipi ve Eksik Veri Kontrolü\n",
        "Bu kod hücresinde, veri çerçevesinin genel bilgileri (df.info()) ve istatistiksel özeti (df.describe()) görüntülenir."
      ],
      "metadata": {
        "id": "vdFvf9A_GiT6"
      }
    },
    {
      "cell_type": "code",
      "source": [
        "df.info()  # Verinin genel bilgileri\n",
        "df.describe()  # İstatistiksel özet"
      ],
      "metadata": {
        "colab": {
          "base_uri": "https://localhost:8080/",
          "height": 734
        },
        "id": "YzhgwjPrGiut",
        "outputId": "427ac715-f713-41b3-e281-6b052dfd3fcc"
      },
      "execution_count": null,
      "outputs": [
        {
          "output_type": "stream",
          "name": "stdout",
          "text": [
            "<class 'pandas.core.frame.DataFrame'>\n",
            "Index: 31980 entries, 271884 to 101687\n",
            "Data columns (total 18 columns):\n",
            " #   Column            Non-Null Count  Dtype  \n",
            "---  ------            --------------  -----  \n",
            " 0   HeartDisease      31980 non-null  object \n",
            " 1   BMI               31980 non-null  float64\n",
            " 2   Smoking           31980 non-null  object \n",
            " 3   AlcoholDrinking   31980 non-null  object \n",
            " 4   Stroke            31980 non-null  object \n",
            " 5   PhysicalHealth    31980 non-null  float64\n",
            " 6   MentalHealth      31980 non-null  float64\n",
            " 7   DiffWalking       31980 non-null  object \n",
            " 8   Sex               31980 non-null  object \n",
            " 9   AgeCategory       31980 non-null  object \n",
            " 10  Race              31980 non-null  object \n",
            " 11  Diabetic          31980 non-null  object \n",
            " 12  PhysicalActivity  31980 non-null  object \n",
            " 13  GenHealth         31980 non-null  object \n",
            " 14  SleepTime         31980 non-null  float64\n",
            " 15  Asthma            31980 non-null  object \n",
            " 16  KidneyDisease     31980 non-null  object \n",
            " 17  SkinCancer        31980 non-null  object \n",
            "dtypes: float64(4), object(14)\n",
            "memory usage: 4.6+ MB\n"
          ]
        },
        {
          "output_type": "execute_result",
          "data": {
            "text/plain": [
              "                BMI  PhysicalHealth  MentalHealth     SleepTime\n",
              "count  31980.000000    31980.000000  31980.000000  31980.000000\n",
              "mean      28.355179        3.443965      3.884021      7.112539\n",
              "std        6.373277        8.022188      7.937088      1.435066\n",
              "min       12.400000        0.000000      0.000000      1.000000\n",
              "25%       24.030000        0.000000      0.000000      6.000000\n",
              "50%       27.340000        0.000000      0.000000      7.000000\n",
              "75%       31.450000        2.000000      3.000000      8.000000\n",
              "max       91.820000       30.000000     30.000000     24.000000"
            ],
            "text/html": [
              "\n",
              "  <div id=\"df-c6dd5547-8116-44dc-b4f7-7b64a90cf319\" class=\"colab-df-container\">\n",
              "    <div>\n",
              "<style scoped>\n",
              "    .dataframe tbody tr th:only-of-type {\n",
              "        vertical-align: middle;\n",
              "    }\n",
              "\n",
              "    .dataframe tbody tr th {\n",
              "        vertical-align: top;\n",
              "    }\n",
              "\n",
              "    .dataframe thead th {\n",
              "        text-align: right;\n",
              "    }\n",
              "</style>\n",
              "<table border=\"1\" class=\"dataframe\">\n",
              "  <thead>\n",
              "    <tr style=\"text-align: right;\">\n",
              "      <th></th>\n",
              "      <th>BMI</th>\n",
              "      <th>PhysicalHealth</th>\n",
              "      <th>MentalHealth</th>\n",
              "      <th>SleepTime</th>\n",
              "    </tr>\n",
              "  </thead>\n",
              "  <tbody>\n",
              "    <tr>\n",
              "      <th>count</th>\n",
              "      <td>31980.000000</td>\n",
              "      <td>31980.000000</td>\n",
              "      <td>31980.000000</td>\n",
              "      <td>31980.000000</td>\n",
              "    </tr>\n",
              "    <tr>\n",
              "      <th>mean</th>\n",
              "      <td>28.355179</td>\n",
              "      <td>3.443965</td>\n",
              "      <td>3.884021</td>\n",
              "      <td>7.112539</td>\n",
              "    </tr>\n",
              "    <tr>\n",
              "      <th>std</th>\n",
              "      <td>6.373277</td>\n",
              "      <td>8.022188</td>\n",
              "      <td>7.937088</td>\n",
              "      <td>1.435066</td>\n",
              "    </tr>\n",
              "    <tr>\n",
              "      <th>min</th>\n",
              "      <td>12.400000</td>\n",
              "      <td>0.000000</td>\n",
              "      <td>0.000000</td>\n",
              "      <td>1.000000</td>\n",
              "    </tr>\n",
              "    <tr>\n",
              "      <th>25%</th>\n",
              "      <td>24.030000</td>\n",
              "      <td>0.000000</td>\n",
              "      <td>0.000000</td>\n",
              "      <td>6.000000</td>\n",
              "    </tr>\n",
              "    <tr>\n",
              "      <th>50%</th>\n",
              "      <td>27.340000</td>\n",
              "      <td>0.000000</td>\n",
              "      <td>0.000000</td>\n",
              "      <td>7.000000</td>\n",
              "    </tr>\n",
              "    <tr>\n",
              "      <th>75%</th>\n",
              "      <td>31.450000</td>\n",
              "      <td>2.000000</td>\n",
              "      <td>3.000000</td>\n",
              "      <td>8.000000</td>\n",
              "    </tr>\n",
              "    <tr>\n",
              "      <th>max</th>\n",
              "      <td>91.820000</td>\n",
              "      <td>30.000000</td>\n",
              "      <td>30.000000</td>\n",
              "      <td>24.000000</td>\n",
              "    </tr>\n",
              "  </tbody>\n",
              "</table>\n",
              "</div>\n",
              "    <div class=\"colab-df-buttons\">\n",
              "\n",
              "  <div class=\"colab-df-container\">\n",
              "    <button class=\"colab-df-convert\" onclick=\"convertToInteractive('df-c6dd5547-8116-44dc-b4f7-7b64a90cf319')\"\n",
              "            title=\"Convert this dataframe to an interactive table.\"\n",
              "            style=\"display:none;\">\n",
              "\n",
              "  <svg xmlns=\"http://www.w3.org/2000/svg\" height=\"24px\" viewBox=\"0 -960 960 960\">\n",
              "    <path d=\"M120-120v-720h720v720H120Zm60-500h600v-160H180v160Zm220 220h160v-160H400v160Zm0 220h160v-160H400v160ZM180-400h160v-160H180v160Zm440 0h160v-160H620v160ZM180-180h160v-160H180v160Zm440 0h160v-160H620v160Z\"/>\n",
              "  </svg>\n",
              "    </button>\n",
              "\n",
              "  <style>\n",
              "    .colab-df-container {\n",
              "      display:flex;\n",
              "      gap: 12px;\n",
              "    }\n",
              "\n",
              "    .colab-df-convert {\n",
              "      background-color: #E8F0FE;\n",
              "      border: none;\n",
              "      border-radius: 50%;\n",
              "      cursor: pointer;\n",
              "      display: none;\n",
              "      fill: #1967D2;\n",
              "      height: 32px;\n",
              "      padding: 0 0 0 0;\n",
              "      width: 32px;\n",
              "    }\n",
              "\n",
              "    .colab-df-convert:hover {\n",
              "      background-color: #E2EBFA;\n",
              "      box-shadow: 0px 1px 2px rgba(60, 64, 67, 0.3), 0px 1px 3px 1px rgba(60, 64, 67, 0.15);\n",
              "      fill: #174EA6;\n",
              "    }\n",
              "\n",
              "    .colab-df-buttons div {\n",
              "      margin-bottom: 4px;\n",
              "    }\n",
              "\n",
              "    [theme=dark] .colab-df-convert {\n",
              "      background-color: #3B4455;\n",
              "      fill: #D2E3FC;\n",
              "    }\n",
              "\n",
              "    [theme=dark] .colab-df-convert:hover {\n",
              "      background-color: #434B5C;\n",
              "      box-shadow: 0px 1px 3px 1px rgba(0, 0, 0, 0.15);\n",
              "      filter: drop-shadow(0px 1px 2px rgba(0, 0, 0, 0.3));\n",
              "      fill: #FFFFFF;\n",
              "    }\n",
              "  </style>\n",
              "\n",
              "    <script>\n",
              "      const buttonEl =\n",
              "        document.querySelector('#df-c6dd5547-8116-44dc-b4f7-7b64a90cf319 button.colab-df-convert');\n",
              "      buttonEl.style.display =\n",
              "        google.colab.kernel.accessAllowed ? 'block' : 'none';\n",
              "\n",
              "      async function convertToInteractive(key) {\n",
              "        const element = document.querySelector('#df-c6dd5547-8116-44dc-b4f7-7b64a90cf319');\n",
              "        const dataTable =\n",
              "          await google.colab.kernel.invokeFunction('convertToInteractive',\n",
              "                                                    [key], {});\n",
              "        if (!dataTable) return;\n",
              "\n",
              "        const docLinkHtml = 'Like what you see? Visit the ' +\n",
              "          '<a target=\"_blank\" href=https://colab.research.google.com/notebooks/data_table.ipynb>data table notebook</a>'\n",
              "          + ' to learn more about interactive tables.';\n",
              "        element.innerHTML = '';\n",
              "        dataTable['output_type'] = 'display_data';\n",
              "        await google.colab.output.renderOutput(dataTable, element);\n",
              "        const docLink = document.createElement('div');\n",
              "        docLink.innerHTML = docLinkHtml;\n",
              "        element.appendChild(docLink);\n",
              "      }\n",
              "    </script>\n",
              "  </div>\n",
              "\n",
              "\n",
              "<div id=\"df-64d202a8-6864-4178-b4f6-cc16c0c64b99\">\n",
              "  <button class=\"colab-df-quickchart\" onclick=\"quickchart('df-64d202a8-6864-4178-b4f6-cc16c0c64b99')\"\n",
              "            title=\"Suggest charts\"\n",
              "            style=\"display:none;\">\n",
              "\n",
              "<svg xmlns=\"http://www.w3.org/2000/svg\" height=\"24px\"viewBox=\"0 0 24 24\"\n",
              "     width=\"24px\">\n",
              "    <g>\n",
              "        <path d=\"M19 3H5c-1.1 0-2 .9-2 2v14c0 1.1.9 2 2 2h14c1.1 0 2-.9 2-2V5c0-1.1-.9-2-2-2zM9 17H7v-7h2v7zm4 0h-2V7h2v10zm4 0h-2v-4h2v4z\"/>\n",
              "    </g>\n",
              "</svg>\n",
              "  </button>\n",
              "\n",
              "<style>\n",
              "  .colab-df-quickchart {\n",
              "      --bg-color: #E8F0FE;\n",
              "      --fill-color: #1967D2;\n",
              "      --hover-bg-color: #E2EBFA;\n",
              "      --hover-fill-color: #174EA6;\n",
              "      --disabled-fill-color: #AAA;\n",
              "      --disabled-bg-color: #DDD;\n",
              "  }\n",
              "\n",
              "  [theme=dark] .colab-df-quickchart {\n",
              "      --bg-color: #3B4455;\n",
              "      --fill-color: #D2E3FC;\n",
              "      --hover-bg-color: #434B5C;\n",
              "      --hover-fill-color: #FFFFFF;\n",
              "      --disabled-bg-color: #3B4455;\n",
              "      --disabled-fill-color: #666;\n",
              "  }\n",
              "\n",
              "  .colab-df-quickchart {\n",
              "    background-color: var(--bg-color);\n",
              "    border: none;\n",
              "    border-radius: 50%;\n",
              "    cursor: pointer;\n",
              "    display: none;\n",
              "    fill: var(--fill-color);\n",
              "    height: 32px;\n",
              "    padding: 0;\n",
              "    width: 32px;\n",
              "  }\n",
              "\n",
              "  .colab-df-quickchart:hover {\n",
              "    background-color: var(--hover-bg-color);\n",
              "    box-shadow: 0 1px 2px rgba(60, 64, 67, 0.3), 0 1px 3px 1px rgba(60, 64, 67, 0.15);\n",
              "    fill: var(--button-hover-fill-color);\n",
              "  }\n",
              "\n",
              "  .colab-df-quickchart-complete:disabled,\n",
              "  .colab-df-quickchart-complete:disabled:hover {\n",
              "    background-color: var(--disabled-bg-color);\n",
              "    fill: var(--disabled-fill-color);\n",
              "    box-shadow: none;\n",
              "  }\n",
              "\n",
              "  .colab-df-spinner {\n",
              "    border: 2px solid var(--fill-color);\n",
              "    border-color: transparent;\n",
              "    border-bottom-color: var(--fill-color);\n",
              "    animation:\n",
              "      spin 1s steps(1) infinite;\n",
              "  }\n",
              "\n",
              "  @keyframes spin {\n",
              "    0% {\n",
              "      border-color: transparent;\n",
              "      border-bottom-color: var(--fill-color);\n",
              "      border-left-color: var(--fill-color);\n",
              "    }\n",
              "    20% {\n",
              "      border-color: transparent;\n",
              "      border-left-color: var(--fill-color);\n",
              "      border-top-color: var(--fill-color);\n",
              "    }\n",
              "    30% {\n",
              "      border-color: transparent;\n",
              "      border-left-color: var(--fill-color);\n",
              "      border-top-color: var(--fill-color);\n",
              "      border-right-color: var(--fill-color);\n",
              "    }\n",
              "    40% {\n",
              "      border-color: transparent;\n",
              "      border-right-color: var(--fill-color);\n",
              "      border-top-color: var(--fill-color);\n",
              "    }\n",
              "    60% {\n",
              "      border-color: transparent;\n",
              "      border-right-color: var(--fill-color);\n",
              "    }\n",
              "    80% {\n",
              "      border-color: transparent;\n",
              "      border-right-color: var(--fill-color);\n",
              "      border-bottom-color: var(--fill-color);\n",
              "    }\n",
              "    90% {\n",
              "      border-color: transparent;\n",
              "      border-bottom-color: var(--fill-color);\n",
              "    }\n",
              "  }\n",
              "</style>\n",
              "\n",
              "  <script>\n",
              "    async function quickchart(key) {\n",
              "      const quickchartButtonEl =\n",
              "        document.querySelector('#' + key + ' button');\n",
              "      quickchartButtonEl.disabled = true;  // To prevent multiple clicks.\n",
              "      quickchartButtonEl.classList.add('colab-df-spinner');\n",
              "      try {\n",
              "        const charts = await google.colab.kernel.invokeFunction(\n",
              "            'suggestCharts', [key], {});\n",
              "      } catch (error) {\n",
              "        console.error('Error during call to suggestCharts:', error);\n",
              "      }\n",
              "      quickchartButtonEl.classList.remove('colab-df-spinner');\n",
              "      quickchartButtonEl.classList.add('colab-df-quickchart-complete');\n",
              "    }\n",
              "    (() => {\n",
              "      let quickchartButtonEl =\n",
              "        document.querySelector('#df-64d202a8-6864-4178-b4f6-cc16c0c64b99 button');\n",
              "      quickchartButtonEl.style.display =\n",
              "        google.colab.kernel.accessAllowed ? 'block' : 'none';\n",
              "    })();\n",
              "  </script>\n",
              "</div>\n",
              "\n",
              "    </div>\n",
              "  </div>\n"
            ],
            "application/vnd.google.colaboratory.intrinsic+json": {
              "type": "dataframe",
              "summary": "{\n  \"name\": \"df\",\n  \"rows\": 8,\n  \"fields\": [\n    {\n      \"column\": \"BMI\",\n      \"properties\": {\n        \"dtype\": \"number\",\n        \"std\": 11295.466264133018,\n        \"min\": 6.373276557265537,\n        \"max\": 31980.0,\n        \"num_unique_values\": 8,\n        \"samples\": [\n          28.355178861788623,\n          27.34,\n          31980.0\n        ],\n        \"semantic_type\": \"\",\n        \"description\": \"\"\n      }\n    },\n    {\n      \"column\": \"PhysicalHealth\",\n      \"properties\": {\n        \"dtype\": \"number\",\n        \"std\": 11304.446547136038,\n        \"min\": 0.0,\n        \"max\": 31980.0,\n        \"num_unique_values\": 6,\n        \"samples\": [\n          31980.0,\n          3.4439649781113197,\n          30.0\n        ],\n        \"semantic_type\": \"\",\n        \"description\": \"\"\n      }\n    },\n    {\n      \"column\": \"MentalHealth\",\n      \"properties\": {\n        \"dtype\": \"number\",\n        \"std\": 11304.378046939186,\n        \"min\": 0.0,\n        \"max\": 31980.0,\n        \"num_unique_values\": 6,\n        \"samples\": [\n          31980.0,\n          3.884021263289556,\n          30.0\n        ],\n        \"semantic_type\": \"\",\n        \"description\": \"\"\n      }\n    },\n    {\n      \"column\": \"SleepTime\",\n      \"properties\": {\n        \"dtype\": \"number\",\n        \"std\": 11303.884595372336,\n        \"min\": 1.0,\n        \"max\": 31980.0,\n        \"num_unique_values\": 8,\n        \"samples\": [\n          7.112539086929331,\n          7.0,\n          31980.0\n        ],\n        \"semantic_type\": \"\",\n        \"description\": \"\"\n      }\n    }\n  ]\n}"
            }
          },
          "metadata": {},
          "execution_count": 3
        }
      ]
    },
    {
      "cell_type": "markdown",
      "source": [
        "\n",
        "#Sütun İsimlerini Yeniden Adlandırma\n",
        "Bu kod hücresinde, veri çerçevesindeki sütun isimleri daha anlamlı ve Python kodu için uygun hale getirilir."
      ],
      "metadata": {
        "id": "wHcl0wGEGsxE"
      }
    },
    {
      "cell_type": "code",
      "source": [
        "df = df.rename(columns={\n",
        "    'HeartDisease': 'heart_disease',\n",
        "    'BMI': 'bmi',\n",
        "    'Smoking': 'smoking',\n",
        "    'AlcoholDrinking': 'alcohol_drinking',\n",
        "    'Stroke': 'stroke',\n",
        "    'PhysicalHealth': 'physical_health',\n",
        "    'MentalHealth': 'mental_health',\n",
        "    'DiffWalking': 'diff_walking',\n",
        "    'Sex': 'sex',\n",
        "    'AgeCategory': 'age_category',\n",
        "    'Race': 'race',\n",
        "    'Diabetic': 'diabetic',\n",
        "    'PhysicalActivity': 'physical_activity',\n",
        "    'GenHealth': 'general_health',\n",
        "    'SleepTime': 'sleep_time',\n",
        "    'Asthma': 'asthma',\n",
        "    'KidneyDisease': 'kidney_disease',\n",
        "    'SkinCancer': 'skin_cancer'\n",
        "})"
      ],
      "metadata": {
        "id": "-N7P3b1vGtLY"
      },
      "execution_count": null,
      "outputs": []
    },
    {
      "cell_type": "markdown",
      "source": [
        "#Kategorik Verileri Sayısal Verilere Dönüştürme\n",
        "Bu kod hücresinde, Evet/Hayır olarak verilen veriler 1 ve 0 değerlerine dönüştürülür. Ayrıca, cinsiyet ve ırk gibi kategorik değerler de 1 ve 0 şeklinde kodlanır."
      ],
      "metadata": {
        "id": "T2Gbf3acHHaG"
      }
    },
    {
      "cell_type": "code",
      "source": [
        "# Evet/Hayır olarak verilen veriler 1 ve 0'a dönüştürülüyor\n",
        "df['heart_disease'] = df['heart_disease'].apply(lambda x: 1 if x == 'Yes' else 0)\n",
        "df['smoking'] = df['smoking'].apply(lambda x: 1 if x == 'Yes' else 0)\n",
        "df['alcohol_drinking'] = df['alcohol_drinking'].apply(lambda x: 1 if x == 'Yes' else 0)\n",
        "df['stroke'] = df['stroke'].apply(lambda x: 1 if x == 'Yes' else 0)\n",
        "df['diff_walking'] = df['diff_walking'].apply(lambda x: 1 if x == 'Yes' else 0)\n",
        "df['diabetic'] = df['diabetic'].apply(lambda x: 1 if x == 'Yes' else 0)\n",
        "df['physical_activity'] = df['physical_activity'].apply(lambda x: 1 if x == 'Yes' else 0)\n",
        "df['asthma'] = df['asthma'].apply(lambda x: 1 if x == 'Yes' else 0)\n",
        "df['kidney_disease'] = df['kidney_disease'].apply(lambda x: 1 if x == 'Yes' else 0)\n",
        "df['skin_cancer'] = df['skin_cancer'].apply(lambda x: 1 if x == 'Yes' else 0)\n",
        "\n",
        "# Cinsiyet ve ırk da 1 ve 0'a dönüştürülüyor\n",
        "df['sex'] = df['sex'].apply(lambda x: 1 if x == 'Female' else 0)\n",
        "df['race'] = df['race'].apply(lambda x: 1 if x == 'White' else 0)"
      ],
      "metadata": {
        "id": "WvQuI9yhHDqm"
      },
      "execution_count": null,
      "outputs": []
    },
    {
      "cell_type": "markdown",
      "source": [
        "Bu kod hücresinde, genel sağlık ve yaş kategorilerindeki metin değerleri sayısal değerlere dönüştürülür. general_health ve age_category sütunları, belirli bir sayısal aralıkla temsil edilen değerlere dönüştürülür ve dönüştürülmüş ilk 5 satır tekrar incelenir."
      ],
      "metadata": {
        "id": "14YoyTTmH-I3"
      }
    },
    {
      "cell_type": "code",
      "source": [
        "# Genel sağlık verisi kategorilere ayrılıyor\n",
        "def general_health_to_numeric(general_health):\n",
        "    if general_health == 'Excellent':\n",
        "        return 4\n",
        "    elif general_health == 'Very good':\n",
        "        return 3\n",
        "    elif general_health == 'Good':\n",
        "        return 2\n",
        "    elif general_health == 'Fair':\n",
        "        return 1\n",
        "    elif general_health == 'Poor':\n",
        "        return 0\n",
        "    else:\n",
        "        return -1  # Hatalı veri durumunda\n",
        "\n",
        "# Yaş kategorilerini de sayısal değerlere dönüştürme\n",
        "def age_category_to_numeric(age_category):\n",
        "    if age_category == '80 or older':\n",
        "        return 12\n",
        "    elif age_category == '75-79':\n",
        "        return 11\n",
        "    elif age_category == '70-74':\n",
        "        return 10\n",
        "    elif age_category == '65-69':\n",
        "        return 9\n",
        "    elif age_category == '60-64':\n",
        "        return 8\n",
        "    elif age_category == '55-59':\n",
        "        return 7\n",
        "    elif age_category == '50-54':\n",
        "        return 6\n",
        "    elif age_category == '45-49':\n",
        "        return 5\n",
        "    elif age_category == '40-44':\n",
        "        return 4\n",
        "    elif age_category == '35-39':\n",
        "        return 3\n",
        "    elif age_category == '30-34':\n",
        "        return 2\n",
        "    elif age_category == '25-29':\n",
        "        return 1\n",
        "    elif age_category == '20-24':\n",
        "        return 0\n",
        "    else:\n",
        "        return -1  # Hatalı veri durumunda\n",
        "\n",
        "df['general_health'] = df['general_health'].apply(general_health_to_numeric)\n",
        "df['age_category'] = df['age_category'].apply(age_category_to_numeric)\n",
        "\n",
        "df.head()  # İlk 5 veriyi tekrar inceleme"
      ],
      "metadata": {
        "colab": {
          "base_uri": "https://localhost:8080/",
          "height": 226
        },
        "id": "3wvjfp3yHYQZ",
        "outputId": "905ee3d8-9758-4006-ad86-f8f947306bfb"
      },
      "execution_count": null,
      "outputs": [
        {
          "output_type": "execute_result",
          "data": {
            "text/plain": [
              "        heart_disease    bmi  smoking  alcohol_drinking  stroke  \\\n",
              "271884              0  27.63        1                 0       0   \n",
              "270361              0  21.95        0                 0       0   \n",
              "219060              0  31.32        1                 0       0   \n",
              "24010               0  40.35        0                 0       0   \n",
              "181930              0  35.61        1                 0       0   \n",
              "\n",
              "        physical_health  mental_health  diff_walking  sex  age_category  race  \\\n",
              "271884              0.0           25.0             0    1             1     0   \n",
              "270361              0.0           20.0             0    1             2     1   \n",
              "219060              0.0            0.0             0    1             4     1   \n",
              "24010              30.0            0.0             0    1             9     1   \n",
              "181930             30.0           30.0             1    1             8     1   \n",
              "\n",
              "        diabetic  physical_activity  general_health  sleep_time  asthma  \\\n",
              "271884         0                  1               3         7.0       0   \n",
              "270361         0                  1               4         6.0       0   \n",
              "219060         0                  1               3         6.0       1   \n",
              "24010          0                  0               2         8.0       0   \n",
              "181930         0                  0               1         4.0       1   \n",
              "\n",
              "        kidney_disease  skin_cancer  \n",
              "271884               0            0  \n",
              "270361               0            1  \n",
              "219060               0            0  \n",
              "24010                0            0  \n",
              "181930               0            1  "
            ],
            "text/html": [
              "\n",
              "  <div id=\"df-87feee29-fdfb-4615-bf84-dc16434d15db\" class=\"colab-df-container\">\n",
              "    <div>\n",
              "<style scoped>\n",
              "    .dataframe tbody tr th:only-of-type {\n",
              "        vertical-align: middle;\n",
              "    }\n",
              "\n",
              "    .dataframe tbody tr th {\n",
              "        vertical-align: top;\n",
              "    }\n",
              "\n",
              "    .dataframe thead th {\n",
              "        text-align: right;\n",
              "    }\n",
              "</style>\n",
              "<table border=\"1\" class=\"dataframe\">\n",
              "  <thead>\n",
              "    <tr style=\"text-align: right;\">\n",
              "      <th></th>\n",
              "      <th>heart_disease</th>\n",
              "      <th>bmi</th>\n",
              "      <th>smoking</th>\n",
              "      <th>alcohol_drinking</th>\n",
              "      <th>stroke</th>\n",
              "      <th>physical_health</th>\n",
              "      <th>mental_health</th>\n",
              "      <th>diff_walking</th>\n",
              "      <th>sex</th>\n",
              "      <th>age_category</th>\n",
              "      <th>race</th>\n",
              "      <th>diabetic</th>\n",
              "      <th>physical_activity</th>\n",
              "      <th>general_health</th>\n",
              "      <th>sleep_time</th>\n",
              "      <th>asthma</th>\n",
              "      <th>kidney_disease</th>\n",
              "      <th>skin_cancer</th>\n",
              "    </tr>\n",
              "  </thead>\n",
              "  <tbody>\n",
              "    <tr>\n",
              "      <th>271884</th>\n",
              "      <td>0</td>\n",
              "      <td>27.63</td>\n",
              "      <td>1</td>\n",
              "      <td>0</td>\n",
              "      <td>0</td>\n",
              "      <td>0.0</td>\n",
              "      <td>25.0</td>\n",
              "      <td>0</td>\n",
              "      <td>1</td>\n",
              "      <td>1</td>\n",
              "      <td>0</td>\n",
              "      <td>0</td>\n",
              "      <td>1</td>\n",
              "      <td>3</td>\n",
              "      <td>7.0</td>\n",
              "      <td>0</td>\n",
              "      <td>0</td>\n",
              "      <td>0</td>\n",
              "    </tr>\n",
              "    <tr>\n",
              "      <th>270361</th>\n",
              "      <td>0</td>\n",
              "      <td>21.95</td>\n",
              "      <td>0</td>\n",
              "      <td>0</td>\n",
              "      <td>0</td>\n",
              "      <td>0.0</td>\n",
              "      <td>20.0</td>\n",
              "      <td>0</td>\n",
              "      <td>1</td>\n",
              "      <td>2</td>\n",
              "      <td>1</td>\n",
              "      <td>0</td>\n",
              "      <td>1</td>\n",
              "      <td>4</td>\n",
              "      <td>6.0</td>\n",
              "      <td>0</td>\n",
              "      <td>0</td>\n",
              "      <td>1</td>\n",
              "    </tr>\n",
              "    <tr>\n",
              "      <th>219060</th>\n",
              "      <td>0</td>\n",
              "      <td>31.32</td>\n",
              "      <td>1</td>\n",
              "      <td>0</td>\n",
              "      <td>0</td>\n",
              "      <td>0.0</td>\n",
              "      <td>0.0</td>\n",
              "      <td>0</td>\n",
              "      <td>1</td>\n",
              "      <td>4</td>\n",
              "      <td>1</td>\n",
              "      <td>0</td>\n",
              "      <td>1</td>\n",
              "      <td>3</td>\n",
              "      <td>6.0</td>\n",
              "      <td>1</td>\n",
              "      <td>0</td>\n",
              "      <td>0</td>\n",
              "    </tr>\n",
              "    <tr>\n",
              "      <th>24010</th>\n",
              "      <td>0</td>\n",
              "      <td>40.35</td>\n",
              "      <td>0</td>\n",
              "      <td>0</td>\n",
              "      <td>0</td>\n",
              "      <td>30.0</td>\n",
              "      <td>0.0</td>\n",
              "      <td>0</td>\n",
              "      <td>1</td>\n",
              "      <td>9</td>\n",
              "      <td>1</td>\n",
              "      <td>0</td>\n",
              "      <td>0</td>\n",
              "      <td>2</td>\n",
              "      <td>8.0</td>\n",
              "      <td>0</td>\n",
              "      <td>0</td>\n",
              "      <td>0</td>\n",
              "    </tr>\n",
              "    <tr>\n",
              "      <th>181930</th>\n",
              "      <td>0</td>\n",
              "      <td>35.61</td>\n",
              "      <td>1</td>\n",
              "      <td>0</td>\n",
              "      <td>0</td>\n",
              "      <td>30.0</td>\n",
              "      <td>30.0</td>\n",
              "      <td>1</td>\n",
              "      <td>1</td>\n",
              "      <td>8</td>\n",
              "      <td>1</td>\n",
              "      <td>0</td>\n",
              "      <td>0</td>\n",
              "      <td>1</td>\n",
              "      <td>4.0</td>\n",
              "      <td>1</td>\n",
              "      <td>0</td>\n",
              "      <td>1</td>\n",
              "    </tr>\n",
              "  </tbody>\n",
              "</table>\n",
              "</div>\n",
              "    <div class=\"colab-df-buttons\">\n",
              "\n",
              "  <div class=\"colab-df-container\">\n",
              "    <button class=\"colab-df-convert\" onclick=\"convertToInteractive('df-87feee29-fdfb-4615-bf84-dc16434d15db')\"\n",
              "            title=\"Convert this dataframe to an interactive table.\"\n",
              "            style=\"display:none;\">\n",
              "\n",
              "  <svg xmlns=\"http://www.w3.org/2000/svg\" height=\"24px\" viewBox=\"0 -960 960 960\">\n",
              "    <path d=\"M120-120v-720h720v720H120Zm60-500h600v-160H180v160Zm220 220h160v-160H400v160Zm0 220h160v-160H400v160ZM180-400h160v-160H180v160Zm440 0h160v-160H620v160ZM180-180h160v-160H180v160Zm440 0h160v-160H620v160Z\"/>\n",
              "  </svg>\n",
              "    </button>\n",
              "\n",
              "  <style>\n",
              "    .colab-df-container {\n",
              "      display:flex;\n",
              "      gap: 12px;\n",
              "    }\n",
              "\n",
              "    .colab-df-convert {\n",
              "      background-color: #E8F0FE;\n",
              "      border: none;\n",
              "      border-radius: 50%;\n",
              "      cursor: pointer;\n",
              "      display: none;\n",
              "      fill: #1967D2;\n",
              "      height: 32px;\n",
              "      padding: 0 0 0 0;\n",
              "      width: 32px;\n",
              "    }\n",
              "\n",
              "    .colab-df-convert:hover {\n",
              "      background-color: #E2EBFA;\n",
              "      box-shadow: 0px 1px 2px rgba(60, 64, 67, 0.3), 0px 1px 3px 1px rgba(60, 64, 67, 0.15);\n",
              "      fill: #174EA6;\n",
              "    }\n",
              "\n",
              "    .colab-df-buttons div {\n",
              "      margin-bottom: 4px;\n",
              "    }\n",
              "\n",
              "    [theme=dark] .colab-df-convert {\n",
              "      background-color: #3B4455;\n",
              "      fill: #D2E3FC;\n",
              "    }\n",
              "\n",
              "    [theme=dark] .colab-df-convert:hover {\n",
              "      background-color: #434B5C;\n",
              "      box-shadow: 0px 1px 3px 1px rgba(0, 0, 0, 0.15);\n",
              "      filter: drop-shadow(0px 1px 2px rgba(0, 0, 0, 0.3));\n",
              "      fill: #FFFFFF;\n",
              "    }\n",
              "  </style>\n",
              "\n",
              "    <script>\n",
              "      const buttonEl =\n",
              "        document.querySelector('#df-87feee29-fdfb-4615-bf84-dc16434d15db button.colab-df-convert');\n",
              "      buttonEl.style.display =\n",
              "        google.colab.kernel.accessAllowed ? 'block' : 'none';\n",
              "\n",
              "      async function convertToInteractive(key) {\n",
              "        const element = document.querySelector('#df-87feee29-fdfb-4615-bf84-dc16434d15db');\n",
              "        const dataTable =\n",
              "          await google.colab.kernel.invokeFunction('convertToInteractive',\n",
              "                                                    [key], {});\n",
              "        if (!dataTable) return;\n",
              "\n",
              "        const docLinkHtml = 'Like what you see? Visit the ' +\n",
              "          '<a target=\"_blank\" href=https://colab.research.google.com/notebooks/data_table.ipynb>data table notebook</a>'\n",
              "          + ' to learn more about interactive tables.';\n",
              "        element.innerHTML = '';\n",
              "        dataTable['output_type'] = 'display_data';\n",
              "        await google.colab.output.renderOutput(dataTable, element);\n",
              "        const docLink = document.createElement('div');\n",
              "        docLink.innerHTML = docLinkHtml;\n",
              "        element.appendChild(docLink);\n",
              "      }\n",
              "    </script>\n",
              "  </div>\n",
              "\n",
              "\n",
              "<div id=\"df-9e99ca17-e2fd-4f06-8834-8ba337e5e688\">\n",
              "  <button class=\"colab-df-quickchart\" onclick=\"quickchart('df-9e99ca17-e2fd-4f06-8834-8ba337e5e688')\"\n",
              "            title=\"Suggest charts\"\n",
              "            style=\"display:none;\">\n",
              "\n",
              "<svg xmlns=\"http://www.w3.org/2000/svg\" height=\"24px\"viewBox=\"0 0 24 24\"\n",
              "     width=\"24px\">\n",
              "    <g>\n",
              "        <path d=\"M19 3H5c-1.1 0-2 .9-2 2v14c0 1.1.9 2 2 2h14c1.1 0 2-.9 2-2V5c0-1.1-.9-2-2-2zM9 17H7v-7h2v7zm4 0h-2V7h2v10zm4 0h-2v-4h2v4z\"/>\n",
              "    </g>\n",
              "</svg>\n",
              "  </button>\n",
              "\n",
              "<style>\n",
              "  .colab-df-quickchart {\n",
              "      --bg-color: #E8F0FE;\n",
              "      --fill-color: #1967D2;\n",
              "      --hover-bg-color: #E2EBFA;\n",
              "      --hover-fill-color: #174EA6;\n",
              "      --disabled-fill-color: #AAA;\n",
              "      --disabled-bg-color: #DDD;\n",
              "  }\n",
              "\n",
              "  [theme=dark] .colab-df-quickchart {\n",
              "      --bg-color: #3B4455;\n",
              "      --fill-color: #D2E3FC;\n",
              "      --hover-bg-color: #434B5C;\n",
              "      --hover-fill-color: #FFFFFF;\n",
              "      --disabled-bg-color: #3B4455;\n",
              "      --disabled-fill-color: #666;\n",
              "  }\n",
              "\n",
              "  .colab-df-quickchart {\n",
              "    background-color: var(--bg-color);\n",
              "    border: none;\n",
              "    border-radius: 50%;\n",
              "    cursor: pointer;\n",
              "    display: none;\n",
              "    fill: var(--fill-color);\n",
              "    height: 32px;\n",
              "    padding: 0;\n",
              "    width: 32px;\n",
              "  }\n",
              "\n",
              "  .colab-df-quickchart:hover {\n",
              "    background-color: var(--hover-bg-color);\n",
              "    box-shadow: 0 1px 2px rgba(60, 64, 67, 0.3), 0 1px 3px 1px rgba(60, 64, 67, 0.15);\n",
              "    fill: var(--button-hover-fill-color);\n",
              "  }\n",
              "\n",
              "  .colab-df-quickchart-complete:disabled,\n",
              "  .colab-df-quickchart-complete:disabled:hover {\n",
              "    background-color: var(--disabled-bg-color);\n",
              "    fill: var(--disabled-fill-color);\n",
              "    box-shadow: none;\n",
              "  }\n",
              "\n",
              "  .colab-df-spinner {\n",
              "    border: 2px solid var(--fill-color);\n",
              "    border-color: transparent;\n",
              "    border-bottom-color: var(--fill-color);\n",
              "    animation:\n",
              "      spin 1s steps(1) infinite;\n",
              "  }\n",
              "\n",
              "  @keyframes spin {\n",
              "    0% {\n",
              "      border-color: transparent;\n",
              "      border-bottom-color: var(--fill-color);\n",
              "      border-left-color: var(--fill-color);\n",
              "    }\n",
              "    20% {\n",
              "      border-color: transparent;\n",
              "      border-left-color: var(--fill-color);\n",
              "      border-top-color: var(--fill-color);\n",
              "    }\n",
              "    30% {\n",
              "      border-color: transparent;\n",
              "      border-left-color: var(--fill-color);\n",
              "      border-top-color: var(--fill-color);\n",
              "      border-right-color: var(--fill-color);\n",
              "    }\n",
              "    40% {\n",
              "      border-color: transparent;\n",
              "      border-right-color: var(--fill-color);\n",
              "      border-top-color: var(--fill-color);\n",
              "    }\n",
              "    60% {\n",
              "      border-color: transparent;\n",
              "      border-right-color: var(--fill-color);\n",
              "    }\n",
              "    80% {\n",
              "      border-color: transparent;\n",
              "      border-right-color: var(--fill-color);\n",
              "      border-bottom-color: var(--fill-color);\n",
              "    }\n",
              "    90% {\n",
              "      border-color: transparent;\n",
              "      border-bottom-color: var(--fill-color);\n",
              "    }\n",
              "  }\n",
              "</style>\n",
              "\n",
              "  <script>\n",
              "    async function quickchart(key) {\n",
              "      const quickchartButtonEl =\n",
              "        document.querySelector('#' + key + ' button');\n",
              "      quickchartButtonEl.disabled = true;  // To prevent multiple clicks.\n",
              "      quickchartButtonEl.classList.add('colab-df-spinner');\n",
              "      try {\n",
              "        const charts = await google.colab.kernel.invokeFunction(\n",
              "            'suggestCharts', [key], {});\n",
              "      } catch (error) {\n",
              "        console.error('Error during call to suggestCharts:', error);\n",
              "      }\n",
              "      quickchartButtonEl.classList.remove('colab-df-spinner');\n",
              "      quickchartButtonEl.classList.add('colab-df-quickchart-complete');\n",
              "    }\n",
              "    (() => {\n",
              "      let quickchartButtonEl =\n",
              "        document.querySelector('#df-9e99ca17-e2fd-4f06-8834-8ba337e5e688 button');\n",
              "      quickchartButtonEl.style.display =\n",
              "        google.colab.kernel.accessAllowed ? 'block' : 'none';\n",
              "    })();\n",
              "  </script>\n",
              "</div>\n",
              "\n",
              "    </div>\n",
              "  </div>\n"
            ],
            "application/vnd.google.colaboratory.intrinsic+json": {
              "type": "dataframe",
              "variable_name": "df",
              "summary": "{\n  \"name\": \"df\",\n  \"rows\": 31980,\n  \"fields\": [\n    {\n      \"column\": \"heart_disease\",\n      \"properties\": {\n        \"dtype\": \"number\",\n        \"std\": 0,\n        \"min\": 0,\n        \"max\": 1,\n        \"num_unique_values\": 2,\n        \"samples\": [\n          1,\n          0\n        ],\n        \"semantic_type\": \"\",\n        \"description\": \"\"\n      }\n    },\n    {\n      \"column\": \"bmi\",\n      \"properties\": {\n        \"dtype\": \"number\",\n        \"std\": 6.373276557265537,\n        \"min\": 12.4,\n        \"max\": 91.82,\n        \"num_unique_values\": 2091,\n        \"samples\": [\n          14.42,\n          26.57\n        ],\n        \"semantic_type\": \"\",\n        \"description\": \"\"\n      }\n    },\n    {\n      \"column\": \"smoking\",\n      \"properties\": {\n        \"dtype\": \"number\",\n        \"std\": 0,\n        \"min\": 0,\n        \"max\": 1,\n        \"num_unique_values\": 2,\n        \"samples\": [\n          0,\n          1\n        ],\n        \"semantic_type\": \"\",\n        \"description\": \"\"\n      }\n    },\n    {\n      \"column\": \"alcohol_drinking\",\n      \"properties\": {\n        \"dtype\": \"number\",\n        \"std\": 0,\n        \"min\": 0,\n        \"max\": 1,\n        \"num_unique_values\": 2,\n        \"samples\": [\n          1,\n          0\n        ],\n        \"semantic_type\": \"\",\n        \"description\": \"\"\n      }\n    },\n    {\n      \"column\": \"stroke\",\n      \"properties\": {\n        \"dtype\": \"number\",\n        \"std\": 0,\n        \"min\": 0,\n        \"max\": 1,\n        \"num_unique_values\": 2,\n        \"samples\": [\n          1,\n          0\n        ],\n        \"semantic_type\": \"\",\n        \"description\": \"\"\n      }\n    },\n    {\n      \"column\": \"physical_health\",\n      \"properties\": {\n        \"dtype\": \"number\",\n        \"std\": 8.022188079736189,\n        \"min\": 0.0,\n        \"max\": 30.0,\n        \"num_unique_values\": 31,\n        \"samples\": [\n          22.0,\n          25.0\n        ],\n        \"semantic_type\": \"\",\n        \"description\": \"\"\n      }\n    },\n    {\n      \"column\": \"mental_health\",\n      \"properties\": {\n        \"dtype\": \"number\",\n        \"std\": 7.93708813812682,\n        \"min\": 0.0,\n        \"max\": 30.0,\n        \"num_unique_values\": 31,\n        \"samples\": [\n          22.0,\n          16.0\n        ],\n        \"semantic_type\": \"\",\n        \"description\": \"\"\n      }\n    },\n    {\n      \"column\": \"diff_walking\",\n      \"properties\": {\n        \"dtype\": \"number\",\n        \"std\": 0,\n        \"min\": 0,\n        \"max\": 1,\n        \"num_unique_values\": 2,\n        \"samples\": [\n          1,\n          0\n        ],\n        \"semantic_type\": \"\",\n        \"description\": \"\"\n      }\n    },\n    {\n      \"column\": \"sex\",\n      \"properties\": {\n        \"dtype\": \"number\",\n        \"std\": 0,\n        \"min\": 0,\n        \"max\": 1,\n        \"num_unique_values\": 2,\n        \"samples\": [\n          0,\n          1\n        ],\n        \"semantic_type\": \"\",\n        \"description\": \"\"\n      }\n    },\n    {\n      \"column\": \"age_category\",\n      \"properties\": {\n        \"dtype\": \"number\",\n        \"std\": 3,\n        \"min\": -1,\n        \"max\": 12,\n        \"num_unique_values\": 13,\n        \"samples\": [\n          -1,\n          7\n        ],\n        \"semantic_type\": \"\",\n        \"description\": \"\"\n      }\n    },\n    {\n      \"column\": \"race\",\n      \"properties\": {\n        \"dtype\": \"number\",\n        \"std\": 0,\n        \"min\": 0,\n        \"max\": 1,\n        \"num_unique_values\": 2,\n        \"samples\": [\n          1,\n          0\n        ],\n        \"semantic_type\": \"\",\n        \"description\": \"\"\n      }\n    },\n    {\n      \"column\": \"diabetic\",\n      \"properties\": {\n        \"dtype\": \"number\",\n        \"std\": 0,\n        \"min\": 0,\n        \"max\": 1,\n        \"num_unique_values\": 2,\n        \"samples\": [\n          1,\n          0\n        ],\n        \"semantic_type\": \"\",\n        \"description\": \"\"\n      }\n    },\n    {\n      \"column\": \"physical_activity\",\n      \"properties\": {\n        \"dtype\": \"number\",\n        \"std\": 0,\n        \"min\": 0,\n        \"max\": 1,\n        \"num_unique_values\": 2,\n        \"samples\": [\n          0,\n          1\n        ],\n        \"semantic_type\": \"\",\n        \"description\": \"\"\n      }\n    },\n    {\n      \"column\": \"general_health\",\n      \"properties\": {\n        \"dtype\": \"number\",\n        \"std\": 1,\n        \"min\": 0,\n        \"max\": 4,\n        \"num_unique_values\": 5,\n        \"samples\": [\n          4,\n          0\n        ],\n        \"semantic_type\": \"\",\n        \"description\": \"\"\n      }\n    },\n    {\n      \"column\": \"sleep_time\",\n      \"properties\": {\n        \"dtype\": \"number\",\n        \"std\": 1.4350655418550458,\n        \"min\": 1.0,\n        \"max\": 24.0,\n        \"num_unique_values\": 22,\n        \"samples\": [\n          7.0,\n          2.0\n        ],\n        \"semantic_type\": \"\",\n        \"description\": \"\"\n      }\n    },\n    {\n      \"column\": \"asthma\",\n      \"properties\": {\n        \"dtype\": \"number\",\n        \"std\": 0,\n        \"min\": 0,\n        \"max\": 1,\n        \"num_unique_values\": 2,\n        \"samples\": [\n          1,\n          0\n        ],\n        \"semantic_type\": \"\",\n        \"description\": \"\"\n      }\n    },\n    {\n      \"column\": \"kidney_disease\",\n      \"properties\": {\n        \"dtype\": \"number\",\n        \"std\": 0,\n        \"min\": 0,\n        \"max\": 1,\n        \"num_unique_values\": 2,\n        \"samples\": [\n          1,\n          0\n        ],\n        \"semantic_type\": \"\",\n        \"description\": \"\"\n      }\n    },\n    {\n      \"column\": \"skin_cancer\",\n      \"properties\": {\n        \"dtype\": \"number\",\n        \"std\": 0,\n        \"min\": 0,\n        \"max\": 1,\n        \"num_unique_values\": 2,\n        \"samples\": [\n          1,\n          0\n        ],\n        \"semantic_type\": \"\",\n        \"description\": \"\"\n      }\n    }\n  ]\n}"
            }
          },
          "metadata": {},
          "execution_count": 6
        }
      ]
    },
    {
      "cell_type": "markdown",
      "source": [
        "\n",
        "#Eğitim ve Test Kümelerine Ayırma\n",
        "Bu kod hücresinde, özellikler (X) ve hedef değişken (y) oluşturulur ve veri seti eğitim (%70) ve test (%20) kümelerine ayrılır. Verinin karıştırılması (shuffle=True) ve rastgelelik (random_state=42) ayarlanır."
      ],
      "metadata": {
        "id": "BNIi0DKIIBS1"
      }
    },
    {
      "cell_type": "code",
      "source": [
        "from sklearn.model_selection import train_test_split\n",
        "\n",
        "X = df.drop('heart_disease', axis=1)\n",
        "y = df['heart_disease']\n",
        "\n",
        "# Eğitim ve test kümelerine ayırma\n",
        "X_train, X_test, y_train, y_test = train_test_split(X, y, test_size=0.20, random_state=42)"
      ],
      "metadata": {
        "id": "2IWxpLP5IBsV"
      },
      "execution_count": null,
      "outputs": []
    },
    {
      "cell_type": "markdown",
      "source": [
        "# Lineer Regresyon Modelinin Değerlendirilmesi\n",
        "\n",
        "Bu kod hücresinde, Lineer Regresyon (Linear Regression) modeli oluşturulur ve eğitim verisi üzerinde eğitilir. Model, test verisi üzerinde tahminler yaparak çeşitli performans metriklerini (Ortalama Kare Hata - MSE, Ortalama Mutlak Hata - MAE ve R^2 Skoru) hesaplar. Ayrıca, çapraz doğrulama (cross-validation) kullanarak modelin genel performansını değerlendirmek için 5 katlı çapraz doğrulama uygulanır. Çapraz doğrulama sonuçları da ekrana yazdırılarak modelin doğruluğu hakkında daha fazla bilgi sağlanır.\n"
      ],
      "metadata": {
        "id": "GqFpu5nYIPzb"
      }
    },
    {
      "cell_type": "code",
      "source": [
        "# Gerekli kütüphaneler\n",
        "from sklearn.linear_model import LinearRegression\n",
        "from sklearn.model_selection import cross_val_score\n",
        "from sklearn.metrics import mean_squared_error, mean_absolute_error, r2_score\n",
        "\n",
        "# Lineer regresyon modelini oluştur\n",
        "linear_model = LinearRegression()\n",
        "\n",
        "# Modeli eğit\n",
        "linear_model.fit(X_train, y_train)\n",
        "\n",
        "# Test verisi üzerinde tahmin yap\n",
        "y_pred = linear_model.predict(X_test)\n",
        "\n",
        "# Performans metriklerini hesapla\n",
        "mse = mean_squared_error(y_test, y_pred)\n",
        "mae = mean_absolute_error(y_test, y_pred)\n",
        "r2 = r2_score(y_test, y_pred)\n",
        "\n",
        "# Metrikleri ekrana yazdır\n",
        "print(f\"Ortalama Kare Hata (MSE): {mse:.2f}\")\n",
        "print(f\"Ortalama Mutlak Hata (MAE): {mae:.2f}\")\n",
        "print(f\"R^2 Skoru: {r2:.2f}\")\n",
        "\n",
        "# Çapraz doğrulama ile modelin performansını değerlendir\n",
        "cv_scores = cross_val_score(linear_model, X_train, y_train, cv=5, scoring='r2')\n",
        "\n",
        "# Çapraz doğrulama sonuçlarını ekrana yazdır\n",
        "print(\"Çapraz Doğrulama R^2 Skorları:\", cv_scores)\n",
        "print(f\"Ortalama Çapraz Doğrulama R^2 Skoru: {np.mean(cv_scores)}\")\n",
        "print(f\"Standart Sapma: {np.std(cv_scores)}\")"
      ],
      "metadata": {
        "colab": {
          "base_uri": "https://localhost:8080/"
        },
        "id": "yqALzfI8IQNO",
        "outputId": "77418c30-a4bf-4c32-d812-b64c950378d0"
      },
      "execution_count": null,
      "outputs": [
        {
          "output_type": "stream",
          "name": "stdout",
          "text": [
            "Ortalama Kare Hata (MSE): 0.07\n",
            "Ortalama Mutlak Hata (MAE): 0.15\n",
            "R^2 Skoru: 0.15\n",
            "Çapraz Doğrulama R^2 Skorları: [0.12767658 0.13423158 0.134796   0.13601643 0.13959803]\n",
            "Ortalama Çapraz Doğrulama R^2 Skoru: 0.13446372295161566\n",
            "Standart Sapma: 0.0038730235337031465\n"
          ]
        }
      ]
    },
    {
      "cell_type": "markdown",
      "source": [
        "# Logistic Regression (Lojistik Regresyon) Modeli Değerlendirmesi\n",
        "\n",
        "Bu kod hücresinde, Logistic Regression (Lojistik Regresyon) modeli oluşturulur ve test verileri üzerinde eğitilerek tahminler yapılır. Modelin performansı, accuracy (doğruluk), precision (hassasiyet), recall (geri çağırma), F1 skoru ve ROC AUC skoru gibi metriklerle değerlendirilir. Ayrıca, 5-katlı çapraz doğrulama ile modelin genel performansı analiz edilerek ortalama ve standart sapma hesaplanır.\n"
      ],
      "metadata": {
        "id": "UEljfweMMjrc"
      }
    },
    {
      "cell_type": "code",
      "source": [
        "# Gerekli kütüphaneler\n",
        "from sklearn.linear_model import LogisticRegression\n",
        "from sklearn.model_selection import cross_val_score\n",
        "from sklearn.metrics import accuracy_score, precision_score, recall_score, f1_score, roc_auc_score\n",
        "\n",
        "# Modeli oluştur\n",
        "log_model = LogisticRegression()\n",
        "\n",
        "# Modeli eğit\n",
        "log_model.fit(X_train, y_train)\n",
        "\n",
        "# Tahmin yap\n",
        "y_pred_log = log_model.predict(X_test)\n",
        "\n",
        "# Metrik hesaplamaları\n",
        "log_accuracy = accuracy_score(y_test, y_pred_log)\n",
        "log_precision = precision_score(y_test, y_pred_log)\n",
        "log_recall = recall_score(y_test, y_pred_log)\n",
        "log_f1 = f1_score(y_test, y_pred_log)\n",
        "log_roc_auc = roc_auc_score(y_test, y_pred_log)\n",
        "\n",
        "# Sonuçları yazdır\n",
        "print(\"Model: Logistic Regression\")\n",
        "print(f\"Doğruluk (Accuracy): {log_accuracy:.2f}\")\n",
        "print(f\"Hassasiyet (Precision): {log_precision:.2f}\")\n",
        "print(f\"Geri Çağırma (Recall): {log_recall:.2f}\")\n",
        "print(f\"F1 Skoru: {log_f1:.2f}\")\n",
        "print(f\"ROC AUC Skoru: {log_roc_auc:.2f}\")\n",
        "\n",
        "# Çapraz doğrulama ile modeli değerlendir\n",
        "cv_scores_log = cross_val_score(log_model, X_train, y_train, cv=5, scoring='accuracy')\n",
        "\n",
        "# Çapraz doğrulama sonuçlarını yazdır\n",
        "print(\"Çapraz Doğrulama Skorları:\", cv_scores_log)\n",
        "print(f\"Ortalama Çapraz Doğrulama Skoru: {np.mean(cv_scores_log)}\")\n",
        "print(f\"Standart Sapma: {np.std(cv_scores_log)}\")\n"
      ],
      "metadata": {
        "colab": {
          "base_uri": "https://localhost:8080/"
        },
        "id": "a7B0wJpIMkEa",
        "outputId": "f6993f62-404f-4759-f873-b653aeb55693"
      },
      "execution_count": null,
      "outputs": [
        {
          "output_type": "stream",
          "name": "stdout",
          "text": [
            "Model: Logistic Regression\n",
            "Doğruluk (Accuracy): 0.91\n",
            "Hassasiyet (Precision): 0.54\n",
            "Geri Çağırma (Recall): 0.10\n",
            "F1 Skoru: 0.16\n",
            "ROC AUC Skoru: 0.54\n",
            "Çapraz Doğrulama Skorları: [0.91205785 0.91127614 0.91186242 0.91186242 0.91731822]\n",
            "Ortalama Çapraz Doğrulama Skoru: 0.9128754081773444\n",
            "Standart Sapma: 0.0022368244097887707\n"
          ]
        }
      ]
    },
    {
      "cell_type": "markdown",
      "source": [
        "# Decision Tree (Karar Ağaçları) Modeli Değerlendirmesi\n",
        "\n",
        "Bu kod hücresinde, Decision Tree (Karar Ağaçları) modeli oluşturulur ve test verileri üzerinde eğitilerek tahminler yapılır. Modelin performansı, accuracy (doğruluk), precision (hassasiyet), recall (geri çağırma), F1 skoru ve ROC AUC skoru gibi metriklerle değerlendirilir. Ayrıca, 5-katlı çapraz doğrulama ile modelin genel performansı analiz edilerek ortalama ve standart sapma hesaplanır.\n"
      ],
      "metadata": {
        "id": "6UpaNEFHMoro"
      }
    },
    {
      "cell_type": "code",
      "source": [
        "# Gerekli kütüphaneler\n",
        "from sklearn.tree import DecisionTreeClassifier\n",
        "from sklearn.model_selection import cross_val_score\n",
        "from sklearn.metrics import accuracy_score, precision_score, recall_score, f1_score, roc_auc_score\n",
        "\n",
        "# Karar ağacı modelini oluştur\n",
        "tree_model = DecisionTreeClassifier()\n",
        "\n",
        "# Modeli eğit\n",
        "tree_model.fit(X_train, y_train)\n",
        "\n",
        "# Test verisi üzerinde tahmin yap\n",
        "y_pred_tree = tree_model.predict(X_test)\n",
        "\n",
        "# Performans metriklerini hesapla\n",
        "tree_accuracy = accuracy_score(y_test, y_pred_tree)\n",
        "tree_precision = precision_score(y_test, y_pred_tree)\n",
        "tree_recall = recall_score(y_test, y_pred_tree)\n",
        "tree_f1 = f1_score(y_test, y_pred_tree)\n",
        "tree_roc_auc = roc_auc_score(y_test, y_pred_tree)\n",
        "\n",
        "# Metrikleri ekrana yazdır\n",
        "print(\"Model: Decision Tree\")\n",
        "print(f\"Doğruluk (Accuracy): {tree_accuracy:.2f}\")\n",
        "print(f\"Hassasiyet (Precision): {tree_precision}\")\n",
        "print(f\"Geri Çağırma (Recall): {tree_recall}\")\n",
        "print(f\"F1 Skoru: {tree_f1}\")\n",
        "print(f\"ROC AUC Skoru: {tree_roc_auc}\")\n",
        "\n",
        "# Çapraz doğrulama ile modelin performansını değerlendir\n",
        "cv_scores_tree = cross_val_score(tree_model, X_train, y_train, cv=5, scoring='accuracy')\n",
        "\n",
        "# Çapraz doğrulama sonuçlarını ekrana yazdır\n",
        "print(\"Çapraz Doğrulama Doğruluk Skorları:\", cv_scores_tree)\n",
        "print(f\"Ortalama Çapraz Doğrulama Doğruluk Skoru: {np.mean(cv_scores_tree)}\")\n",
        "print(f\"Standart Sapma: {np.std(cv_scores_tree)}\")\n"
      ],
      "metadata": {
        "colab": {
          "base_uri": "https://localhost:8080/"
        },
        "id": "Etv13wUlMsMj",
        "outputId": "ab8bdb16-8bcb-4dc3-85df-6c72a375ecc0"
      },
      "execution_count": null,
      "outputs": [
        {
          "output_type": "stream",
          "name": "stdout",
          "text": [
            "Model: Decision Tree\n",
            "Doğruluk (Accuracy): 0.86\n",
            "Hassasiyet (Precision): 0.26614173228346455\n",
            "Geri Çağırma (Recall): 0.2864406779661017\n",
            "F1 Skoru: 0.27591836734693875\n",
            "ROC AUC Skoru: 0.6030894399131232\n",
            "Çapraz Doğrulama Doğruluk Skorları: [0.84600352 0.85010748 0.85088919 0.85518859 0.85301016]\n",
            "Ortalama Çapraz Doğrulama Doğruluk Skoru: 0.8510397893361029\n",
            "Standart Sapma: 0.0030773625952694355\n"
          ]
        }
      ]
    },
    {
      "cell_type": "markdown",
      "source": [
        "# KNN (K-En Yakın Komşu) Modeli Değerlendirmesi\n",
        "\n",
        "Bu kod hücresinde, KNN (K-En Yakın Komşu) modeli oluşturulur ve test verileri üzerinde eğitilerek tahminler yapılır. Modelin performansı, accuracy (doğruluk), precision (hassasiyet), recall (geri çağırma), F1 skoru ve ROC AUC skoru gibi metriklerle değerlendirilir. Ayrıca, 5-katlı çapraz doğrulama ile modelin genel performansı analiz edilerek ortalama ve standart sapma hesaplanır.\n"
      ],
      "metadata": {
        "id": "GTazD_o1b1i7"
      }
    },
    {
      "cell_type": "code",
      "source": [
        "# Gerekli kütüphaneler\n",
        "from sklearn.neighbors import KNeighborsClassifier\n",
        "from sklearn.model_selection import cross_val_score\n",
        "from sklearn.metrics import accuracy_score, precision_score, recall_score, f1_score, roc_auc_score\n",
        "\n",
        "# KNN modelini oluştur\n",
        "knn_model = KNeighborsClassifier()\n",
        "\n",
        "# Modeli eğit\n",
        "knn_model.fit(X_train, y_train)\n",
        "\n",
        "# Test verisi üzerinde tahmin yap\n",
        "y_pred_knn = knn_model.predict(X_test)\n",
        "\n",
        "# Performans metriklerini hesapla\n",
        "knn_accuracy = accuracy_score(y_test, y_pred_knn)\n",
        "knn_precision = precision_score(y_test, y_pred_knn)\n",
        "knn_recall = recall_score(y_test, y_pred_knn)\n",
        "knn_f1 = f1_score(y_test, y_pred_knn)\n",
        "knn_roc_auc = roc_auc_score(y_test, y_pred_knn)\n",
        "\n",
        "# Metrikleri ekrana yazdır\n",
        "print(\"Model: KNN\")\n",
        "print(f\"Doğruluk (Accuracy): {knn_accuracy:.2f}\")\n",
        "print(f\"Hassasiyet (Precision): {knn_precision}\")\n",
        "print(f\"Geri Çağırma (Recall): {knn_recall}\")\n",
        "print(f\"F1 Skoru: {knn_f1}\")\n",
        "print(f\"ROC AUC Skoru: {knn_roc_auc}\")\n",
        "\n",
        "# Çapraz doğrulama ile modelin performansını değerlendir\n",
        "cv_scores_knn = cross_val_score(knn_model, X_train, y_train, cv=5, scoring='accuracy')\n",
        "\n",
        "# Çapraz doğrulama sonuçlarını ekrana yazdır\n",
        "print(\"Çapraz Doğrulama Doğrululuk Skorları:\", cv_scores_knn)\n",
        "print(f\"Ortalama Çapraz Doğrulama Doğruluk Skoru: {np.mean(cv_scores_knn)}\")\n",
        "print(f\"Standart Sapma: {np.std(cv_scores_knn)}\")\n"
      ],
      "metadata": {
        "colab": {
          "base_uri": "https://localhost:8080/"
        },
        "id": "lMEjmze9btrc",
        "outputId": "cb5deb27-2001-4ba5-b2b3-d87a20af6104"
      },
      "execution_count": null,
      "outputs": [
        {
          "output_type": "stream",
          "name": "stdout",
          "text": [
            "Model: KNN\n",
            "Doğruluk (Accuracy): 0.90\n",
            "Hassasiyet (Precision): 0.2773109243697479\n",
            "Geri Çağırma (Recall): 0.05593220338983051\n",
            "F1 Skoru: 0.0930888575458392\n",
            "ROC AUC Skoru: 0.5205599701069028\n",
            "Çapraz Doğrulama Doğrululuk Skorları: [0.90052765 0.90189564 0.90287278 0.90189564 0.90285379]\n",
            "Ortalama Çapraz Doğrulama Doğruluk Skoru: 0.902009101183976\n",
            "Standart Sapma: 0.0008578896782001192\n"
          ]
        }
      ]
    },
    {
      "cell_type": "markdown",
      "source": [
        "# Random Forest (Rastgele Orman) Modeli Değerlendirmesi\n",
        "\n",
        "Bu kod hücresinde, Random Forest (Rastgele Orman) modeli oluşturulur ve test verileri üzerinde eğitilerek tahminler yapılır. Modelin performansı, accuracy (doğruluk), precision (hassasiyet), recall (geri çağırma), F1 skoru ve ROC AUC skoru gibi metriklerle değerlendirilir. Ayrıca, 5-katlı çapraz doğrulama ile modelin genel performansı analiz edilerek ortalama ve standart sapma hesaplanır.\n"
      ],
      "metadata": {
        "id": "djhCLPHacd91"
      }
    },
    {
      "cell_type": "code",
      "source": [
        "# Gerekli kütüphaneler\n",
        "from sklearn.ensemble import RandomForestClassifier\n",
        "from sklearn.model_selection import cross_val_score\n",
        "from sklearn.metrics import accuracy_score, precision_score, recall_score, f1_score, roc_auc_score\n",
        "\n",
        "# Random Forest modelini oluştur\n",
        "rf_model = RandomForestClassifier()\n",
        "\n",
        "# Modeli eğit\n",
        "rf_model.fit(X_train, y_train)\n",
        "\n",
        "# Test verisi üzerinde tahmin yap\n",
        "y_pred_rf = rf_model.predict(X_test)\n",
        "\n",
        "# Performans metriklerini hesapla\n",
        "rf_accuracy = accuracy_score(y_test, y_pred_rf)\n",
        "rf_precision = precision_score(y_test, y_pred_rf)\n",
        "rf_recall = recall_score(y_test, y_pred_rf)\n",
        "rf_f1 = f1_score(y_test, y_pred_rf)\n",
        "rf_roc_auc = roc_auc_score(y_test, y_pred_rf)\n",
        "\n",
        "# Metrikleri ekrana yazdır\n",
        "print(\"Model: Random Forest\")\n",
        "print(f\"Doğruluk (Accuracy): {rf_accuracy:.2f}\")\n",
        "print(f\"Hassasiyet (Precision): {rf_precision}\")\n",
        "print(f\"Geri Çağırma (Recall): {rf_recall}\")\n",
        "print(f\"F1 Skoru: {rf_f1}\")\n",
        "print(f\"ROC AUC Skoru: {rf_roc_auc}\")\n",
        "\n",
        "# Çapraz doğrulama ile modelin performansını değerlendir\n",
        "cv_scores_rf = cross_val_score(rf_model, X_train, y_train, cv=5, scoring='accuracy')\n",
        "\n",
        "# Çapraz doğrulama sonuçlarını ekrana yazdır\n",
        "print(\"Çapraz Doğrulama Doğruluk Skorları:\", cv_scores_rf)\n",
        "print(f\"Ortalama Çapraz Doğrulama Doğruluk Skoru: {np.mean(cv_scores_rf)}\")\n",
        "print(f\"Standart Sapma: {np.std(cv_scores_rf)}\")"
      ],
      "metadata": {
        "colab": {
          "base_uri": "https://localhost:8080/"
        },
        "id": "rG2nw05Ycdm7",
        "outputId": "5b83cb53-51f6-40cf-c282-73b8759eca78"
      },
      "execution_count": null,
      "outputs": [
        {
          "output_type": "stream",
          "name": "stdout",
          "text": [
            "Model: Random Forest\n",
            "Doğruluk (Accuracy): 0.91\n",
            "Hassasiyet (Precision): 0.460431654676259\n",
            "Geri Çağırma (Recall): 0.10847457627118644\n",
            "F1 Skoru: 0.1755829903978052\n",
            "ROC AUC Skoru: 0.5477784524483731\n",
            "Çapraz Doğrulama Doğruluk Skorları: [0.90658589 0.90580418 0.90619504 0.90932187 0.90734949]\n",
            "Ortalama Çapraz Doğrulama Doğruluk Skoru: 0.9070512937069294\n",
            "Standart Sapma: 0.001244949453867271\n"
          ]
        }
      ]
    },
    {
      "cell_type": "markdown",
      "source": [
        "# SVM (Destek Vektör Makineleri) Modeli Değerlendirmesi\n",
        "\n",
        "Bu kod hücresinde, SVM (Destek Vektör Makineleri) modeli oluşturulur ve test verileri üzerinde eğitilerek tahminler yapılır. Modelin performansı, accuracy (doğruluk), precision (hassasiyet), recall (geri çağırma), F1 skoru ve ROC AUC skoru gibi metriklerle değerlendirilir. Ayrıca, 5-katlı çapraz doğrulama ile modelin genel performansı analiz edilerek ortalama ve standart sapma hesaplanır.\n"
      ],
      "metadata": {
        "id": "pgcfgtZvc29l"
      }
    },
    {
      "cell_type": "code",
      "source": [
        "# Gerekli kütüphaneler\n",
        "from sklearn.svm import SVC\n",
        "from sklearn.model_selection import cross_val_score\n",
        "from sklearn.metrics import accuracy_score, precision_score, recall_score, f1_score, roc_auc_score\n",
        "\n",
        "# SVM modelini oluştur\n",
        "svm_model = SVC()\n",
        "\n",
        "# Modeli eğit\n",
        "svm_model.fit(X_train, y_train)\n",
        "\n",
        "# Test verisi üzerinde tahmin yap\n",
        "y_pred_svm = svm_model.predict(X_test)\n",
        "\n",
        "# Performans metriklerini hesapla\n",
        "svm_accuracy = accuracy_score(y_test, y_pred_svm)\n",
        "svm_precision = precision_score(y_test, y_pred_svm)\n",
        "svm_recall = recall_score(y_test, y_pred_svm)\n",
        "svm_f1 = f1_score(y_test, y_pred_svm)\n",
        "svm_roc_auc = roc_auc_score(y_test, y_pred_svm)\n",
        "\n",
        "# Metrikleri ekrana yazdır\n",
        "print(\"Model: SVM\")\n",
        "print(f\"Doğruluk (Accuracy): {svm_accuracy:.2f}\")\n",
        "print(f\"Hassasiyet (Precision): {svm_precision}\")\n",
        "print(f\"Geri Çağırma (Recall): {svm_recall}\")\n",
        "print(f\"F1 Skoru: {svm_f1}\")\n",
        "print(f\"ROC AUC Skoru: {svm_roc_auc}\")\n",
        "\n",
        "# Çapraz doğrulama ile modelin performansını değerlendir\n",
        "cv_scores_svm = cross_val_score(svm_model, X_train, y_train, cv=5, scoring='accuracy')\n",
        "\n",
        "# Çapraz doğrulama sonuçlarını ekrana yazdır\n",
        "print(\"Çapraz Doğrulama Doğruluk Skorları:\", cv_scores_svm)\n",
        "print(f\"Ortalama Çapraz Doğrulama Doğruluk Skoru: {np.mean(cv_scores_svm)}\")\n",
        "print(f\"Standart Sapma: {np.std(cv_scores_svm)}\")"
      ],
      "metadata": {
        "colab": {
          "base_uri": "https://localhost:8080/"
        },
        "id": "-67Wfp-Mc3fQ",
        "outputId": "49bb3a50-47f3-4dbf-9efc-009b712aff88"
      },
      "execution_count": null,
      "outputs": [
        {
          "output_type": "stream",
          "name": "stdout",
          "text": [
            "Model: SVM\n",
            "Doğruluk (Accuracy): 0.91\n",
            "Hassasiyet (Precision): 0.0\n",
            "Geri Çağırma (Recall): 0.0\n",
            "F1 Skoru: 0.0\n",
            "ROC AUC Skoru: 0.5\n",
            "Çapraz Doğrulama Doğruluk Skorları: [0.91088528 0.91088528 0.91088528 0.91108071 0.91106333]\n",
            "Ortalama Çapraz Doğrulama Doğruluk Skoru: 0.910959979024066\n",
            "Standart Sapma: 9.164688183835055e-05\n"
          ]
        }
      ]
    },
    {
      "cell_type": "markdown",
      "source": [
        "# Gaussian Naive Bayes (Gauss Naif Bayes) Modeli Değerlendirmesi\n",
        "\n",
        "Bu kod hücresinde, Gaussian Naive Bayes (Gauss Naif Bayes) modeli oluşturulur ve test verileri üzerinde eğitilerek tahminler yapılır. Modelin performansı, accuracy (doğruluk), precision (hassasiyet), recall (geri çağırma), F1 skoru ve ROC AUC skoru gibi metriklerle değerlendirilir. Ayrıca, 5-katlı çapraz doğrulama ile modelin genel performansı analiz edilerek ortalama ve standart sapma hesaplanır.\n"
      ],
      "metadata": {
        "id": "v52rrKuWdPSS"
      }
    },
    {
      "cell_type": "code",
      "source": [
        "# Gerekli kütüphaneler\n",
        "from sklearn.naive_bayes import GaussianNB\n",
        "from sklearn.model_selection import cross_val_score\n",
        "from sklearn.metrics import accuracy_score, precision_score, recall_score, f1_score, roc_auc_score\n",
        "\n",
        "# Naive Bayes modelini oluştur\n",
        "nb_model = GaussianNB()\n",
        "\n",
        "# Modeli eğit\n",
        "nb_model.fit(X_train, y_train)\n",
        "\n",
        "# Test verisi üzerinde tahmin yap\n",
        "y_pred_nb = nb_model.predict(X_test)\n",
        "\n",
        "# Performans metriklerini hesapla\n",
        "nb_accuracy = accuracy_score(y_test, y_pred_nb)\n",
        "nb_precision = precision_score(y_test, y_pred_nb)\n",
        "nb_recall = recall_score(y_test, y_pred_nb)\n",
        "nb_f1 = f1_score(y_test, y_pred_nb)\n",
        "nb_roc_auc = roc_auc_score(y_test, y_pred_nb)\n",
        "\n",
        "# Metrikleri ekrana yazdır\n",
        "print(\"Model: Naive Bayes\")\n",
        "print(f\"Doğruluk (Accuracy): {nb_accuracy:.2f}\")\n",
        "print(f\"Hassasiyet (Precision): {nb_precision}\")\n",
        "print(f\"Geri Çağırma (Recall): {nb_recall}\")\n",
        "print(f\"F1 Skoru: {nb_f1}\")\n",
        "print(f\"ROC AUC Skoru: {nb_roc_auc}\")\n",
        "\n",
        "# Çapraz doğrulama ile modelin performansını değerlendir\n",
        "cv_scores_nb = cross_val_score(nb_model, X_train, y_train, cv=5, scoring='accuracy')\n",
        "\n",
        "# Çapraz doğrulama sonuçlarını ekrana yazdır\n",
        "print(\"Çapraz Doğrulama Doğruluk Skorları:\", cv_scores_nb)\n",
        "print(f\"Ortalama Çapraz Doğrulama Doğruluk Skoru: {np.mean(cv_scores_nb)}\")\n",
        "print(f\"Standart Sapma: {np.std(cv_scores_nb)}\")"
      ],
      "metadata": {
        "colab": {
          "base_uri": "https://localhost:8080/"
        },
        "id": "bW7rKrvOdO-e",
        "outputId": "87320155-61fc-45b5-fb05-3d9426e99f3a"
      },
      "execution_count": null,
      "outputs": [
        {
          "output_type": "stream",
          "name": "stdout",
          "text": [
            "Model: Naive Bayes\n",
            "Doğruluk (Accuracy): 0.84\n",
            "Hassasiyet (Precision): 0.2734375\n",
            "Geri Çağırma (Recall): 0.4745762711864407\n",
            "F1 Skoru: 0.3469640644361834\n",
            "ROC AUC Skoru: 0.6732164855759968\n",
            "Çapraz Doğrulama Doğruluk Skorları: [0.82763338 0.8415087  0.83623217 0.83486418 0.83561376]\n",
            "Ortalama Çapraz Doğrulama Doğruluk Skoru: 0.8351704363400723\n",
            "Standart Sapma: 0.004436178071273726\n"
          ]
        }
      ]
    },
    {
      "cell_type": "markdown",
      "source": [
        "# Linear Discriminant Analysis (Doğrusal Ayrım Analizi) Modeli Değerlendirmesi\n",
        "\n",
        "Bu kod hücresinde, Linear Discriminant Analysis (Doğrusal Ayrım Analizi) modeli oluşturulur ve test verileri üzerinde eğitilerek tahminler yapılır. Modelin performansı, accuracy (doğruluk), precision (hassasiyet), recall (geri çağırma), F1 skoru ve ROC AUC skoru gibi metriklerle değerlendirilir. Ayrıca, 5-katlı çapraz doğrulama ile modelin genel performansı analiz edilerek ortalama ve standart sapma hesaplanır.\n"
      ],
      "metadata": {
        "id": "Z1cNAT47de38"
      }
    },
    {
      "cell_type": "code",
      "source": [
        "# Gerekli kütüphaneler\n",
        "from sklearn.discriminant_analysis import LinearDiscriminantAnalysis\n",
        "from sklearn.model_selection import cross_val_score\n",
        "from sklearn.metrics import accuracy_score, precision_score, recall_score, f1_score, roc_auc_score\n",
        "\n",
        "# LDA modelini oluştur\n",
        "lda_model = LinearDiscriminantAnalysis()\n",
        "\n",
        "# Modeli eğit\n",
        "lda_model.fit(X_train, y_train)\n",
        "\n",
        "# Test verisi üzerinde tahmin yap\n",
        "y_pred_lda = lda_model.predict(X_test)\n",
        "\n",
        "# Performans metriklerini hesapla\n",
        "lda_accuracy = accuracy_score(y_test, y_pred_lda)\n",
        "lda_precision = precision_score(y_test, y_pred_lda)\n",
        "lda_recall = recall_score(y_test, y_pred_lda)\n",
        "lda_f1 = f1_score(y_test, y_pred_lda)\n",
        "lda_roc_auc = roc_auc_score(y_test, y_pred_lda)\n",
        "\n",
        "# Metrikleri ekrana yazdır\n",
        "print(\"Model: LDA\")\n",
        "print(f\"Doğruluk (Accuracy): {lda_accuracy:.2f}\")\n",
        "print(f\"Hassasiyet (Precision): {lda_precision}\")\n",
        "print(f\"Geri Çağırma (Recall): {lda_recall}\")\n",
        "print(f\"F1 Skoru: {lda_f1}\")\n",
        "print(f\"ROC AUC Skoru: {lda_roc_auc}\")\n",
        "\n",
        "# Çapraz doğrulama ile modelin performansını değerlendir\n",
        "cv_scores_lda = cross_val_score(lda_model, X_train, y_train, cv=5, scoring='accuracy')\n",
        "\n",
        "# Çapraz doğrulama sonuçlarını ekrana yazdır\n",
        "print(\"Çapraz Doğrulama Doğruluk Skorları:\", cv_scores_lda)\n",
        "print(f\"Ortalama Çapraz Doğrulama Doğruluk Skoru: {np.mean(cv_scores_lda)}\")\n",
        "print(f\"Standart Sapma: {np.std(cv_scores_lda)}\")"
      ],
      "metadata": {
        "colab": {
          "base_uri": "https://localhost:8080/"
        },
        "id": "nU5lDUebdfOE",
        "outputId": "14cc2fba-4a1b-4d86-821d-df47c5d1d19e"
      },
      "execution_count": null,
      "outputs": [
        {
          "output_type": "stream",
          "name": "stdout",
          "text": [
            "Model: LDA\n",
            "Doğruluk (Accuracy): 0.90\n",
            "Hassasiyet (Precision): 0.4429530201342282\n",
            "Geri Çağırma (Recall): 0.22372881355932203\n",
            "F1 Skoru: 0.2972972972972973\n",
            "ROC AUC Skoru: 0.5975688504586139\n",
            "Çapraz Doğrulama Doğruluk Skorları: [0.90619504 0.90541333 0.90365449 0.9022865  0.91184519]\n",
            "Ortalama Çapraz Doğrulama Doğruluk Skoru: 0.9058789073750851\n",
            "Standart Sapma: 0.003279229256576484\n"
          ]
        }
      ]
    },
    {
      "cell_type": "markdown",
      "source": [
        "# Gradient Boosting (Eğim Artışı) Modeli Değerlendirmesi\n",
        "\n",
        "Bu kod hücresinde, Gradient Boosting (Eğim Artışı) modeli oluşturulur ve test verileri üzerinde eğitilerek tahminler yapılır. Modelin performansı, accuracy (doğruluk), precision (hassasiyet), recall (geri çağırma), F1 skoru ve ROC AUC skoru gibi metriklerle değerlendirilir. Ayrıca, 5-katlı çapraz doğrulama ile modelin genel performansı analiz edilerek ortalama ve standart sapma hesaplanır.\n"
      ],
      "metadata": {
        "id": "VKVvz6Ntd0Am"
      }
    },
    {
      "cell_type": "code",
      "source": [
        "# Gerekli kütüphaneler\n",
        "from sklearn.ensemble import GradientBoostingClassifier\n",
        "from sklearn.model_selection import cross_val_score\n",
        "from sklearn.metrics import accuracy_score, precision_score, recall_score, f1_score, roc_auc_score\n",
        "\n",
        "# Gradient Boosting modelini oluştur\n",
        "gb_model = GradientBoostingClassifier()\n",
        "\n",
        "# Modeli eğit\n",
        "gb_model.fit(X_train, y_train)\n",
        "\n",
        "# Test verisi üzerinde tahmin yap\n",
        "y_pred_gb = gb_model.predict(X_test)\n",
        "\n",
        "# Performans metriklerini hesapla\n",
        "gb_accuracy = accuracy_score(y_test, y_pred_gb)\n",
        "gb_precision = precision_score(y_test, y_pred_gb)\n",
        "gb_recall = recall_score(y_test, y_pred_gb)\n",
        "gb_f1 = f1_score(y_test, y_pred_gb)\n",
        "gb_roc_auc = roc_auc_score(y_test, y_pred_gb)\n",
        "\n",
        "# Metrikleri ekrana yazdır\n",
        "print(\"Model: Gradient Boosting\")\n",
        "print(f\"Doğruluk (Accuracy): {gb_accuracy:.2f}\")\n",
        "print(f\"Hassasiyet (Precision): {gb_precision}\")\n",
        "print(f\"Geri Çağırma (Recall): {gb_recall}\")\n",
        "print(f\"F1 Skoru: {gb_f1}\")\n",
        "print(f\"ROC AUC Skoru: {gb_roc_auc}\")\n",
        "\n",
        "# Çapraz doğrulama ile modelin performansını değerlendir\n",
        "cv_scores_gb = cross_val_score(gb_model, X_train, y_train, cv=5, scoring='accuracy')\n",
        "\n",
        "# Çapraz doğrulama sonuçlarını ekrana yazdır\n",
        "print(\"Çapraz Doğrulama Doğrulukt Skorları:\", cv_scores_gb)\n",
        "print(f\"Ortalama Çapraz Doğrulama Doğruluk Skoru: {np.mean(cv_scores_gb)}\")\n",
        "print(f\"Standart Sapma: {np.std(cv_scores_gb)}\")"
      ],
      "metadata": {
        "colab": {
          "base_uri": "https://localhost:8080/"
        },
        "id": "mC-AkW9ddyYu",
        "outputId": "9203b4f0-e516-4bf6-8e1d-b8e1ccb880a5"
      },
      "execution_count": null,
      "outputs": [
        {
          "output_type": "stream",
          "name": "stdout",
          "text": [
            "Model: Gradient Boosting\n",
            "Doğruluk (Accuracy): 0.91\n",
            "Hassasiyet (Precision): 0.56\n",
            "Geri Çağırma (Recall): 0.09491525423728814\n",
            "F1 Skoru: 0.16231884057971013\n",
            "ROC AUC Skoru: 0.5436684435154749\n",
            "Çapraz Doğrulama Doğrulukt Skorları: [0.91323041 0.91323041 0.91166699 0.91147157 0.91712275]\n",
            "Ortalama Çapraz Doğrulama Doğruluk Skoru: 0.9133444253567383\n",
            "Standart Sapma: 0.002030917969624783\n"
          ]
        }
      ]
    },
    {
      "cell_type": "markdown",
      "source": [
        "# AdaBoost (Ada Artışı) Modeli Değerlendirmesi\n",
        "\n",
        "Bu kod hücresinde, AdaBoost (Ada Artışı) modeli oluşturulur ve test verileri üzerinde eğitilerek tahminler yapılır. Modelin performansı, accuracy (doğruluk), precision (hassasiyet), recall (geri çağırma), F1 skoru ve ROC AUC skoru gibi metriklerle değerlendirilir. Ayrıca, 5-katlı çapraz doğrulama ile modelin genel performansı analiz edilerek ortalama ve standart sapma hesaplanır.\n"
      ],
      "metadata": {
        "id": "yNhcumGrd-3L"
      }
    },
    {
      "cell_type": "code",
      "source": [
        "# Gerekli kütüphaneler\n",
        "from sklearn.ensemble import AdaBoostClassifier\n",
        "from sklearn.model_selection import cross_val_score\n",
        "from sklearn.metrics import accuracy_score, precision_score, recall_score, f1_score, roc_auc_score\n",
        "\n",
        "# AdaBoost modelini oluştur\n",
        "ada_model = AdaBoostClassifier()\n",
        "\n",
        "# Modeli eğit\n",
        "ada_model.fit(X_train, y_train)\n",
        "\n",
        "# Test verisi üzerinde tahmin yap\n",
        "y_pred_ada = ada_model.predict(X_test)\n",
        "\n",
        "# Performans metriklerini hesapla\n",
        "ada_accuracy = accuracy_score(y_test, y_pred_ada)\n",
        "ada_precision = precision_score(y_test, y_pred_ada)\n",
        "ada_recall = recall_score(y_test, y_pred_ada)\n",
        "ada_f1 = f1_score(y_test, y_pred_ada)\n",
        "ada_roc_auc = roc_auc_score(y_test, y_pred_ada)\n",
        "\n",
        "# Metrikleri ekrana yazdır\n",
        "print(\"Model: AdaBoost\")\n",
        "print(f\"Doğruluk (Accuracy): {ada_accuracy:.2f}\")\n",
        "print(f\"Hassasiyet (Precision): {ada_precision}\")\n",
        "print(f\"Geri Çağırma (Recall): {ada_recall}\")\n",
        "print(f\"F1 Skoru: {ada_f1}\")\n",
        "print(f\"ROC AUC Skoru: {ada_roc_auc}\")\n",
        "\n",
        "# Çapraz doğrulama ile modelin performansını değerlendir\n",
        "cv_scores_ada = cross_val_score(ada_model, X_train, y_train, cv=5, scoring='accuracy')\n",
        "\n",
        "# Çapraz doğrulama sonuçlarını ekrana yazdır\n",
        "print(\"Çapraz Doğrulama Doğruluk Skorları:\", cv_scores_ada)\n",
        "print(f\"Ortalama Çapraz Doğrulama Doğruluk Skoru: {np.mean(cv_scores_ada)}\")\n",
        "print(f\"Standart Sapma: {np.std(cv_scores_ada)}\")"
      ],
      "metadata": {
        "colab": {
          "base_uri": "https://localhost:8080/"
        },
        "id": "nFWLusi8d_P_",
        "outputId": "90d63069-7796-42d2-879a-52ca1edddfb3"
      },
      "execution_count": null,
      "outputs": [
        {
          "output_type": "stream",
          "name": "stdout",
          "text": [
            "Model: AdaBoost\n",
            "Doğruluk (Accuracy): 0.91\n",
            "Hassasiyet (Precision): 0.5338983050847458\n",
            "Geri Çağırma (Recall): 0.10677966101694915\n",
            "F1 Skoru: 0.17796610169491525\n",
            "ROC AUC Skoru: 0.5486533510045132\n",
            "Çapraz Doğrulama Doğruluk Skorları: [0.91127614 0.90912644 0.91127614 0.91088528 0.91594996]\n",
            "Ortalama Çapraz Doğrulama Doğruluk Skoru: 0.9117027926504166\n",
            "Standart Sapma: 0.002267527825787265\n"
          ]
        }
      ]
    },
    {
      "cell_type": "markdown",
      "source": [
        "# MLP (Çok Katmanlı Perceptron) Modeli Değerlendirmesi\n",
        "\n",
        "Bu kod hücresinde, MLP (Çok Katmanlı Perceptron) modeli oluşturulur ve test verileri üzerinde eğitilerek tahminler yapılır. Modelin performansı, accuracy (doğruluk), precision (hassasiyet), recall (geri çağırma), F1 skoru ve ROC AUC skoru gibi metriklerle değerlendirilir. Ayrıca, 5-katlı çapraz doğrulama ile modelin genel performansı analiz edilerek ortalama ve standart sapma hesaplanır.\n"
      ],
      "metadata": {
        "id": "J0OjgZuteGL9"
      }
    },
    {
      "cell_type": "code",
      "source": [
        "# Gerekli kütüphaneler\n",
        "from sklearn.neural_network import MLPClassifier\n",
        "from sklearn.model_selection import cross_val_score\n",
        "from sklearn.metrics import accuracy_score, precision_score, recall_score, f1_score, roc_auc_score\n",
        "\n",
        "# MLP modelini oluştur\n",
        "mlp_model = MLPClassifier(max_iter=1000)\n",
        "\n",
        "# Modeli eğit\n",
        "mlp_model.fit(X_train, y_train)\n",
        "\n",
        "# Test verisi üzerinde tahmin yap\n",
        "y_pred_mlp = mlp_model.predict(X_test)\n",
        "\n",
        "# Performans metriklerini hesapla\n",
        "mlp_accuracy = accuracy_score(y_test, y_pred_mlp)\n",
        "mlp_precision = precision_score(y_test, y_pred_mlp)\n",
        "mlp_recall = recall_score(y_test, y_pred_mlp)\n",
        "mlp_f1 = f1_score(y_test, y_pred_mlp)\n",
        "mlp_roc_auc = roc_auc_score(y_test, y_pred_mlp)\n",
        "\n",
        "# Metrikleri ekrana yazdır\n",
        "print(\"Model: MLP\")\n",
        "print(f\"Doğruluk (Accuracy): {mlp_accuracy:.2f}\")\n",
        "print(f\"Hassasiyet (Precision): {mlp_precision}\")\n",
        "print(f\"Geri Çağırma (Recall): {mlp_recall}\")\n",
        "print(f\"F1 Skoru: {mlp_f1}\")\n",
        "print(f\"ROC AUC Skoru: {mlp_roc_auc}\")\n",
        "\n",
        "# Çapraz doğrulama ile modelin performansını değerlendir\n",
        "cv_scores_mlp = cross_val_score(mlp_model, X_train, y_train, cv=5, scoring='accuracy')\n",
        "\n",
        "# Çapraz doğrulama sonuçlarını ekrana yazdır\n",
        "print(\"Çapraz Doğrulama Doğruluk Skorları:\", cv_scores_mlp)\n",
        "print(f\"Ortalama Çapraz Doğrulama Doğruluk Skoru: {np.mean(cv_scores_mlp)}\")\n",
        "print(f\"Standart Sapma: {np.std(cv_scores_mlp)}\")"
      ],
      "metadata": {
        "colab": {
          "base_uri": "https://localhost:8080/"
        },
        "id": "bFtRLiqTeGrt",
        "outputId": "1aa598d2-d815-4f3f-c62d-a5f6965b3996"
      },
      "execution_count": null,
      "outputs": [
        {
          "output_type": "stream",
          "name": "stdout",
          "text": [
            "Model: MLP\n",
            "Doğruluk (Accuracy): 0.91\n",
            "Hassasiyet (Precision): 0.42718446601941745\n",
            "Geri Çağırma (Recall): 0.07457627118644068\n",
            "F1 Skoru: 0.12698412698412698\n",
            "ROC AUC Skoru: 0.5322071848526071\n",
            "Çapraz Doğrulama Doğruluk Skorları: [0.90932187 0.90541333 0.91166699 0.90932187 0.91419077]\n",
            "Ortalama Çapraz Doğrulama Doğruluk Skoru: 0.9099829662213812\n",
            "Standart Sapma: 0.0029085145378579215\n"
          ]
        }
      ]
    },
    {
      "cell_type": "markdown",
      "source": [
        "# Modellerin Test Doğruluklarının Karşılaştırılması\n",
        "\n",
        "\n",
        "Bu kod, farklı makine öğrenimi modellerinin doğruluk değerlerini hesaplar ve karşılaştırır. En yüksek doğruluğa sahip modeli belirleyip kullanıcıya bildirir. Son olarak, bu doğruluk değerlerini bar grafiği ile görselleştirir."
      ],
      "metadata": {
        "id": "lrN2Rv7CNfGk"
      }
    },
    {
      "cell_type": "code",
      "source": [
        "# Modellerin doğruluk değerleri\n",
        "model_scores = {\n",
        "    'Model': [\n",
        "        'Logistic Regression',\n",
        "        'Decision Tree',\n",
        "        'KNN',\n",
        "        'Random Forest',\n",
        "        'SVM',\n",
        "        'Naive Bayes',\n",
        "        'LDA',\n",
        "        'Gradient Boosting',\n",
        "        'AdaBoost',\n",
        "        'MLP'\n",
        "    ],\n",
        "    'Accuracy': [\n",
        "        log_accuracy,   # Logistic Regression accuracy\n",
        "        tree_accuracy,    # Decision Tree accuracy\n",
        "        knn_accuracy,   # KNN accuracy\n",
        "        rf_accuracy,    # Random Forest accuracy\n",
        "        svm_accuracy,   # SVM accuracy\n",
        "        nb_accuracy,    # Naive Bayes accuracy\n",
        "        lda_accuracy,   # LDA accuracy\n",
        "        gb_accuracy,    # Gradient Boosting accuracy\n",
        "        ada_accuracy,   # AdaBoost accuracy\n",
        "        mlp_accuracy    # MLP accuracy\n",
        "    ]\n",
        "}\n",
        "\n",
        "# En yüksek doğruluk değerini bulma\n",
        "max_accuracy_index = model_scores['Accuracy'].index(max(model_scores['Accuracy']))\n",
        "best_model = model_scores['Model'][max_accuracy_index]\n",
        "print(f\"En yüksek doğruluk oranına sahip model: {best_model} ({model_scores['Accuracy'][max_accuracy_index]})\")\n",
        "\n",
        "# DataFrame oluşturma\n",
        "model_scores_df = pd.DataFrame(model_scores)\n",
        "\n",
        "# Farklı modellerin test doğruluklarını bar grafiği ile görselleştirme\n",
        "plt.figure(figsize=(12, 6))\n",
        "sns.barplot(x='Model', y='Accuracy', data=model_scores_df)\n",
        "plt.title('Farklı Modellerin Test Doğruluk Karşılaştırması')\n",
        "plt.xlabel('Model')\n",
        "plt.ylabel('Doğruluk')\n",
        "plt.xticks(rotation=45)  # X eksenindeki etiketleri döndür\n",
        "plt.show()"
      ],
      "metadata": {
        "colab": {
          "base_uri": "https://localhost:8080/",
          "height": 671
        },
        "id": "POwZgCEqNdXK",
        "outputId": "daf21b7b-8ccd-4b9e-86ba-6b759ecd43a7"
      },
      "execution_count": null,
      "outputs": [
        {
          "output_type": "stream",
          "name": "stdout",
          "text": [
            "En yüksek doğruluk oranına sahip model: Gradient Boosting (0.909631019387117)\n"
          ]
        },
        {
          "output_type": "display_data",
          "data": {
            "text/plain": [
              "<Figure size 1200x600 with 1 Axes>"
            ],
            "image/png": "[encoded data removed]"
          },
          "metadata": {}
        }
      ]
    },
    {
      "cell_type": "markdown",
      "source": [
        "# Karışıklık Matrisi (Confusion Matrix) Görselleştirmesi\n",
        "\n",
        "Bu kod hücresinde, Logistic Regresyon (Logistic Regression) modelinin test seti üzerindeki tahmin sonuçları kullanılarak karışıklık matrisi hesaplanır ve görselleştirilir. Karışıklık matrisi, modelin doğru ve yanlış tahminlerini anlamak için önemli bir araçtır. Bu matris, gerçek pozitifler (TP), gerçek negatifler (TN), yanlış pozitifler (FP) ve yanlış negatifler (FN) hakkında bilgi verir. Grafikte, her hücrede sayılar görüntülenerek modelin performansı hakkında daha net bir bilgi sağlanır.\n"
      ],
      "metadata": {
        "id": "oyTDRhOsGsMu"
      }
    },
    {
      "cell_type": "code",
      "source": [
        "from sklearn.metrics import confusion_matrix\n",
        "import seaborn as sns\n",
        "import matplotlib.pyplot as plt\n",
        "\n",
        "# Confusion matrix hesaplama\n",
        "cm = confusion_matrix(y_test, y_pred_log)\n",
        "\n",
        "# Confusion matrix'i görselleştirm\n",
        "plt.figure(figsize=(6, 4))\n",
        "sns.heatmap(cm, annot=True, fmt='d', cmap='Blues')\n",
        "\n",
        "# Grafik başlığı ve etiketler\n",
        "plt.title('Confusion Matrix')\n",
        "plt.xlabel('Predicted')\n",
        "plt.ylabel('Actual')\n",
        "\n",
        "# Grafiği göster\n",
        "plt.show()\n"
      ],
      "metadata": {
        "colab": {
          "base_uri": "https://localhost:8080/",
          "height": 410
        },
        "id": "SIfAZKOUGbMi",
        "outputId": "71a7ba87-d04c-4abb-a45c-3d26381daafd"
      },
      "execution_count": null,
      "outputs": [
        {
          "output_type": "display_data",
          "data": {
            "text/plain": [
              "<Figure size 600x400 with 2 Axes>"
            ],
            "image/png": "[encoded data removed]"
          },
          "metadata": {}
        }
      ]
    },
    {
      "cell_type": "markdown",
      "source": [
        "# ROC Eğrisi ile Model Performansının Görselleştirilmesi\n",
        "\n",
        "Bu kod hücresinde, Logistic Regresyon (Logistic Regression) modelinin test verisi üzerindeki tahmin olasılıkları kullanılarak ROC eğrisi oluşturulur. Yanlış pozitif oranı (FPR) ve doğru pozitif oranı (TPR) hesaplanarak ROC eğrisi çizilir. Ayrıca, ROC eğrisinin altında kalan alan (AUC) değeri de belirtilir. ROC eğrisi, modelin farklı sınıflandırma eşiklerinde nasıl performans gösterdiğini görselleştirmek için kullanılır. Ayrıca, rastgele tahmin çizgisi de grafikte gösterilerek modelin rastgele tahminden ne kadar iyi olduğunu anlamak kolaylaştırılır.\n"
      ],
      "metadata": {
        "id": "z_PRYmEM_xsy"
      }
    },
    {
      "cell_type": "code",
      "source": [
        "import matplotlib.pyplot as plt\n",
        "from sklearn.metrics import roc_curve, auc\n",
        "y_pred_prob = log_model.predict_proba(X_test)[:, 1]\n",
        "fpr, tpr, thresholds = roc_curve(y_test, y_pred_prob)\n",
        "\n",
        "plt.figure(figsize=(8, 6))\n",
        "plt.plot(fpr, tpr, label='ROC Eğrisi (AUC = {:.2f})'.format(log_roc_auc))\n",
        "plt.plot([0, 1], [0, 1], 'k--')\n",
        "plt.xlim([0.0, 1.0])\n",
        "plt.ylim([0.0, 1.05])\n",
        "plt.xlabel('Yanlış Pozitif Oranı (FPR)')\n",
        "plt.ylabel('Doğru Pozitif Oranı (TPR)')\n",
        "plt.title('Receiver Operating Characteristic (ROC) Eğrisi')\n",
        "plt.legend(loc='lower right')\n",
        "plt.grid()\n",
        "plt.show()"
      ],
      "metadata": {
        "colab": {
          "base_uri": "https://localhost:8080/",
          "height": 564
        },
        "id": "qSnxTECC_R5Z",
        "outputId": "1b904bf4-4fdb-497d-9fa7-900607c52774"
      },
      "execution_count": null,
      "outputs": [
        {
          "output_type": "display_data",
          "data": {
            "text/plain": [
              "<Figure size 800x600 with 1 Axes>"
            ],
            "image/png": "[encoded data removed]"
          },
          "metadata": {}
        }
      ]
    }
  ]
}